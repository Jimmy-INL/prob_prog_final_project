{
 "cells": [
  {
   "cell_type": "code",
   "execution_count": 1,
   "metadata": {},
   "outputs": [],
   "source": [
    "# test\n",
    "#a_0 = tf.constant([[1, 2, 1], [3,4,3]],dtype = 'float32')\n",
    "#w_0 = tf.constant([[5, 6, 20, 19], [7, 8, 40, 60], [7, 8, 93, 95]],dtype = 'float32')\n",
    "\n",
    "#with tf.Session() as sess:\n",
    "#    print(tf.matmul(a_0, w_0).eval())\n",
    "#    print(tf.reduce_mean(tf.matmul(a_0, w_0), 0).eval())\n",
    "#    print(sess.run(tf.reduce_sum(tf.log(tf.reduce_mean(tf.matmul(a_0, w_0), 0)))))"
   ]
  },
  {
   "cell_type": "code",
   "execution_count": 2,
   "metadata": {},
   "outputs": [],
   "source": [
    "%matplotlib inline\n",
    "from __future__ import absolute_import\n",
    "from __future__ import division\n",
    "from __future__ import print_function\n",
    "\n",
    "import edward as ed\n",
    "import matplotlib.pyplot as plt\n",
    "import matplotlib.cm as cm\n",
    "import numpy as np\n",
    "import six\n",
    "import tensorflow as tf\n",
    "\n",
    "from edward.models import (\n",
    "    Categorical, Dirichlet, Empirical, InverseGamma,\n",
    "    MultivariateNormalDiag, Normal, ParamMixture)\n",
    "\n",
    "plt.style.use('ggplot')"
   ]
  },
  {
   "cell_type": "code",
   "execution_count": 3,
   "metadata": {},
   "outputs": [],
   "source": [
    "def build_toy_dataset(N):\n",
    "    pi = np.array([0.4, 0.6])\n",
    "    mus = [[1, 1], [-1, -1]]\n",
    "    stds = [[0.1, 0.1], [0.1, 0.1]]\n",
    "    x = np.zeros((N, 2), dtype=np.float32)\n",
    "    for n in range(N):\n",
    "        k = np.argmax(np.random.multinomial(1, pi))\n",
    "        x[n, :] = np.random.multivariate_normal(mus[k], np.diag(stds[k]))\n",
    "\n",
    "    return x\n",
    "\n",
    "\n",
    "N = 500  # number of data points\n",
    "K = 3  # number of components\n",
    "D = 2  # dimensionality of data\n",
    "ed.set_seed(42)\n",
    "\n",
    "x_train = build_toy_dataset(N)"
   ]
  },
  {
   "cell_type": "code",
   "execution_count": 4,
   "metadata": {},
   "outputs": [],
   "source": [
    "pi = Dirichlet(tf.ones(K))\n",
    "mu = Normal(tf.zeros(D), tf.ones(D), sample_shape=K)\n",
    "sigmasq = InverseGamma(tf.ones(D), tf.ones(D), sample_shape=K)\n",
    "x = ParamMixture(pi, {'loc': mu, 'scale_diag': tf.sqrt(sigmasq)},\n",
    "                 MultivariateNormalDiag,\n",
    "                 sample_shape=N)\n",
    "z = x.cat"
   ]
  },
  {
   "cell_type": "code",
   "execution_count": 5,
   "metadata": {},
   "outputs": [],
   "source": [
    "T = 200  # number of MCMC samples\n",
    "qpi = Empirical(tf.get_variable(\n",
    "    \"qpi/params\", [T, K],\n",
    "    initializer=tf.constant_initializer(1.0 / K)))\n",
    "qmu = Empirical(tf.get_variable(\n",
    "    \"qmu/params\", [T, K, D],\n",
    "    initializer=tf.zeros_initializer()))\n",
    "qsigmasq = Empirical(tf.get_variable(\n",
    "    \"qsigmasq/params\", [T, K, D],\n",
    "    initializer=tf.ones_initializer()))\n",
    "qz = Empirical(tf.get_variable(\n",
    "    \"qz/params\", [T, N],\n",
    "    initializer=tf.zeros_initializer(),\n",
    "    dtype=tf.int32))"
   ]
  },
  {
   "cell_type": "code",
   "execution_count": 6,
   "metadata": {},
   "outputs": [
    {
     "name": "stderr",
     "output_type": "stream",
     "text": [
      "/Users/zhonglingjiang/anaconda3/envs/mlprobprog/lib/python3.6/site-packages/edward/util/random_variables.py:52: FutureWarning: Conversion of the second argument of issubdtype from `float` to `np.floating` is deprecated. In future, it will be treated as `np.float64 == np.dtype(float).type`.\n",
      "  not np.issubdtype(value.dtype, np.float) and \\\n"
     ]
    },
    {
     "name": "stdout",
     "output_type": "stream",
     "text": [
      "  1/200 [  0%]                                ETA: 112s | Acceptance Rate: nan\n",
      "Inferred cluster means:\n",
      "[[-0.19289383 -0.06122107]\n",
      " [ 0.39130777  0.4030813 ]\n",
      " [-0.43831307 -0.96308833]]\n",
      "  4/200 [  2%]                                ETA: 31s | Acceptance Rate: 1.000\n",
      "Inferred cluster means:\n",
      "[[-0.17455232 -0.10522678]\n",
      " [ 0.2350442  -0.40428546]\n",
      " [-0.82848865 -0.8526497 ]]\n",
      "  6/200 [  3%]                                ETA: 21s | Acceptance Rate: 1.000\n",
      "Inferred cluster means:\n",
      "[[-0.07083412 -0.04077583]\n",
      " [ 0.17225477  0.18903613]\n",
      " [-0.89513266 -0.9184082 ]]\n",
      "  8/200 [  4%] █                              ETA: 16s | Acceptance Rate: 1.000\n",
      "Inferred cluster means:\n",
      "[[ 0.07529727  0.12312572]\n",
      " [ 0.04114929  0.10601661]\n",
      " [-0.9491981  -0.93688816]]\n",
      " 10/200 [  5%] █                              ETA: 13s | Acceptance Rate: 1.000\n",
      "Inferred cluster means:\n",
      "[[ 0.24764317  0.31078687]\n",
      " [ 0.15706918  0.21650644]\n",
      " [-0.9696233  -0.94467545]]\n",
      " 12/200 [  6%] █                              ETA: 11s | Acceptance Rate: 1.000\n",
      "Inferred cluster means:\n",
      "[[ 0.3903148   0.43715915]\n",
      " [-0.04799132  0.27805808]\n",
      " [-0.9737103  -0.94758624]]\n",
      " 14/200 [  7%] ██                             ETA: 9s | Acceptance Rate: 1.000 \n",
      "Inferred cluster means:\n",
      "[[ 0.48082063  0.5246616 ]\n",
      " [-0.02443078  0.25537676]\n",
      " [-0.97572994 -0.95325977]]\n",
      " 16/200 [  8%] ██                             ETA: 8s | Acceptance Rate: 1.000\n",
      "Inferred cluster means:\n",
      "[[ 0.5450603   0.5882112 ]\n",
      " [ 0.01755285  0.10170336]\n",
      " [-0.98151696 -0.9536879 ]]\n",
      " 18/200 [  9%] ██                             ETA: 8s | Acceptance Rate: 1.000\n",
      "Inferred cluster means:\n",
      "[[ 0.5933898   0.6387999 ]\n",
      " [-0.04751479  0.15799747]\n",
      " [-0.9842509  -0.95783603]]\n",
      " 20/200 [ 10%] ███                            ETA: 7s | Acceptance Rate: 1.000\n",
      "Inferred cluster means:\n",
      "[[ 0.6360257   0.6802995 ]\n",
      " [ 0.04063945  0.19054872]\n",
      " [-0.98685694 -0.9585235 ]]\n",
      " 22/200 [ 11%] ███                            ETA: 6s | Acceptance Rate: 1.000\n",
      "Inferred cluster means:\n",
      "[[ 0.67111087  0.71277326]\n",
      " [ 0.017212    0.20223801]\n",
      " [-0.98836964 -0.9592887 ]]\n",
      " 24/200 [ 12%] ███                            ETA: 6s | Acceptance Rate: 1.000\n",
      "Inferred cluster means:\n",
      "[[ 0.6996856   0.7383877 ]\n",
      " [ 0.09286274  0.26242477]\n",
      " [-0.9905817  -0.9620709 ]]\n",
      " 26/200 [ 13%] ███                            ETA: 6s | Acceptance Rate: 1.000\n",
      "Inferred cluster means:\n",
      "[[ 0.7210075   0.7598509 ]\n",
      " [ 0.04993937  0.19796236]\n",
      " [-0.99208677 -0.96519244]]\n",
      " 28/200 [ 14%] ████                           ETA: 5s | Acceptance Rate: 1.000\n",
      "Inferred cluster means:\n",
      "[[ 0.73958653  0.7788646 ]\n",
      " [-0.02604505  0.21444055]\n",
      " [-0.9936464  -0.9645822 ]]\n",
      " 30/200 [ 15%] ████                           ETA: 5s | Acceptance Rate: 1.000\n",
      "Inferred cluster means:\n",
      "[[ 0.7575938   0.79669154]\n",
      " [ 0.00604181  0.19225726]\n",
      " [-0.9959212  -0.9615479 ]]\n",
      " 32/200 [ 16%] ████                           ETA: 5s | Acceptance Rate: 1.000\n",
      "Inferred cluster means:\n",
      "[[ 0.7720088   0.81197166]\n",
      " [ 0.01144475  0.15605973]\n",
      " [-0.99573165 -0.96134716]]\n",
      " 34/200 [ 17%] █████                          ETA: 4s | Acceptance Rate: 1.000\n",
      "Inferred cluster means:\n",
      "[[ 0.78371     0.82497036]\n",
      " [ 0.06595613  0.12379587]\n",
      " [-0.9967264  -0.96192485]]\n",
      " 36/200 [ 18%] █████                          ETA: 4s | Acceptance Rate: 1.000\n",
      "Inferred cluster means:\n",
      "[[ 0.79319906  0.83554524]\n",
      " [ 0.11247594  0.13346764]\n",
      " [-0.9977709  -0.96417344]]\n",
      " 38/200 [ 19%] █████                          ETA: 4s | Acceptance Rate: 1.000\n",
      "Inferred cluster means:\n",
      "[[ 0.8030364   0.8460417 ]\n",
      " [ 0.07208575  0.11714577]\n",
      " [-0.9972694  -0.96435744]]\n",
      " 40/200 [ 20%] ██████                         ETA: 4s | Acceptance Rate: 1.000\n",
      "Inferred cluster means:\n",
      "[[ 0.81165177  0.8540384 ]\n",
      " [ 0.02744301  0.15868601]\n",
      " [-0.9989157  -0.9644339 ]]\n",
      " 42/200 [ 21%] ██████                         ETA: 4s | Acceptance Rate: 1.000\n",
      "Inferred cluster means:\n",
      "[[ 0.8198393   0.8606564 ]\n",
      " [ 0.00269456  0.17891565]\n",
      " [-0.99905795 -0.96533316]]\n",
      " 44/200 [ 22%] ██████                         ETA: 4s | Acceptance Rate: 1.000\n",
      "Inferred cluster means:\n",
      "[[ 0.8279286   0.86980695]\n",
      " [ 0.00379205  0.16200337]\n",
      " [-0.99977607 -0.9653238 ]]\n",
      " 46/200 [ 23%] ██████                         ETA: 3s | Acceptance Rate: 1.000\n",
      "Inferred cluster means:\n",
      "[[ 0.83438045  0.8770109 ]\n",
      " [-0.03876548  0.18132837]\n",
      " [-1.0000867  -0.9656038 ]]\n",
      " 48/200 [ 24%] ███████                        ETA: 3s | Acceptance Rate: 1.000\n",
      "Inferred cluster means:\n",
      "[[ 0.8400368   0.8834846 ]\n",
      " [-0.11023404  0.1465755 ]\n",
      " [-0.9993843  -0.96573925]]\n",
      " 50/200 [ 25%] ███████                        ETA: 3s | Acceptance Rate: 1.000\n",
      "Inferred cluster means:\n",
      "[[ 0.8463972   0.8884869 ]\n",
      " [-0.08585863  0.16293594]\n",
      " [-0.9992866  -0.966136  ]]\n",
      " 52/200 [ 26%] ███████                        ETA: 3s | Acceptance Rate: 1.000\n",
      "Inferred cluster means:\n",
      "[[ 0.8525921   0.894508  ]\n",
      " [-0.08227617  0.17427792]\n",
      " [-0.99935746 -0.9658881 ]]\n",
      " 54/200 [ 27%] ████████                       ETA: 3s | Acceptance Rate: 1.000\n",
      "Inferred cluster means:\n",
      "[[ 0.8572274   0.8996967 ]\n",
      " [-0.09110082  0.14248827]\n",
      " [-0.99988717 -0.9662364 ]]\n",
      " 56/200 [ 28%] ████████                       ETA: 3s | Acceptance Rate: 1.000\n",
      "Inferred cluster means:\n",
      "[[ 0.86175174  0.9046085 ]\n",
      " [-0.09703635  0.14010248]\n",
      " [-1.00058    -0.9657539 ]]\n",
      " 58/200 [ 28%] ████████                       ETA: 3s | Acceptance Rate: 1.000\n",
      "Inferred cluster means:\n",
      "[[ 0.86660707  0.91023344]\n",
      " [-0.09919588  0.19882964]\n",
      " [-1.0015235  -0.96551764]]\n",
      " 60/200 [ 30%] █████████                      ETA: 3s | Acceptance Rate: 1.000\n",
      "Inferred cluster means:\n",
      "[[ 0.87032217  0.91415864]\n",
      " [-0.09137516  0.17563266]\n",
      " [-1.0023526  -0.9656478 ]]\n",
      " 62/200 [ 31%] █████████                      ETA: 3s | Acceptance Rate: 1.000\n",
      "Inferred cluster means:\n",
      "[[ 0.8736955   0.91830415]\n",
      " [-0.04480034  0.13043395]\n",
      " [-1.0034571  -0.96583   ]]\n",
      " 64/200 [ 32%] █████████                      ETA: 2s | Acceptance Rate: 1.000\n",
      "Inferred cluster means:\n",
      "[[ 0.87613577  0.9218508 ]\n",
      " [-0.09383531  0.12734833]\n",
      " [-1.0033348  -0.9665918 ]]\n",
      " 66/200 [ 33%] █████████                      ETA: 2s | Acceptance Rate: 1.000\n",
      "Inferred cluster means:\n",
      "[[ 0.8789619   0.9250839 ]\n",
      " [-0.12165656  0.12505078]\n",
      " [-1.0031502  -0.9666478 ]]\n",
      " 68/200 [ 34%] ██████████                     ETA: 2s | Acceptance Rate: 1.000\n",
      "Inferred cluster means:\n",
      "[[ 0.8813928   0.9286745 ]\n",
      " [-0.12063544  0.13568543]\n",
      " [-1.0035584  -0.9669834 ]]\n",
      " 70/200 [ 35%] ██████████                     ETA: 2s | Acceptance Rate: 1.000\n",
      "Inferred cluster means:\n",
      "[[ 0.8843436   0.93185216]\n",
      " [-0.07755448  0.13610171]\n",
      " [-1.0039471  -0.9670951 ]]\n",
      " 72/200 [ 36%] ██████████                     ETA: 2s | Acceptance Rate: 1.000\n",
      "Inferred cluster means:\n",
      "[[ 0.8870128   0.93444127]\n",
      " [-0.0851822   0.1635507 ]\n",
      " [-1.0036968  -0.96703285]]\n",
      " 74/200 [ 37%] ███████████                    ETA: 2s | Acceptance Rate: 1.000\n",
      "Inferred cluster means:\n",
      "[[ 0.889137    0.93702674]\n",
      " [-0.05628445  0.17307287]\n",
      " [-1.0040939  -0.9667883 ]]\n",
      " 76/200 [ 38%] ███████████                    ETA: 2s | Acceptance Rate: 1.000\n",
      "Inferred cluster means:\n",
      "[[ 0.8915938   0.9391621 ]\n",
      " [-0.026018    0.16620404]\n",
      " [-1.0043346  -0.96683025]]\n",
      " 78/200 [ 39%] ███████████                    ETA: 2s | Acceptance Rate: 1.000\n",
      "Inferred cluster means:\n",
      "[[ 0.8938868   0.9411093 ]\n",
      " [-0.01007184  0.15553972]\n",
      " [-1.0042585  -0.96689963]]\n",
      " 80/200 [ 40%] ████████████                   ETA: 2s | Acceptance Rate: 1.000\n",
      "Inferred cluster means:\n",
      "[[ 0.8961822   0.9431249 ]\n",
      " [-0.01590323  0.13721493]\n",
      " [-1.0042462  -0.96661896]]\n",
      " 82/200 [ 41%] ████████████                   ETA: 2s | Acceptance Rate: 1.000\n",
      "Inferred cluster means:\n",
      "[[ 0.8986469   0.9448794 ]\n",
      " [-0.01069271  0.13469228]\n",
      " [-1.004204   -0.9665975 ]]\n",
      " 84/200 [ 42%] ████████████                   ETA: 2s | Acceptance Rate: 1.000\n",
      "Inferred cluster means:\n",
      "[[ 0.9006163   0.94695574]\n",
      " [-0.00575956  0.15754417]\n",
      " [-1.0048805  -0.9670913 ]]\n",
      " 86/200 [ 43%] ████████████                   ETA: 2s | Acceptance Rate: 1.000\n",
      "Inferred cluster means:\n",
      "[[ 0.9027799   0.94849366]\n",
      " [ 0.00359473  0.16354458]\n",
      " [-1.0052195  -0.96746165]]\n",
      " 88/200 [ 44%] █████████████                  ETA: 2s | Acceptance Rate: 1.000\n",
      "Inferred cluster means:\n",
      "[[ 0.9044537   0.95051277]\n",
      " [ 0.00658281  0.15985964]\n",
      " [-1.0056298  -0.9678157 ]]\n",
      " 90/200 [ 45%] █████████████                  ETA: 1s | Acceptance Rate: 1.000\n",
      "Inferred cluster means:\n",
      "[[ 0.9062844   0.9521353 ]\n",
      " [ 0.00306037  0.15290122]\n",
      " [-1.0052418  -0.96778494]]\n",
      " 92/200 [ 46%] █████████████                  ETA: 1s | Acceptance Rate: 1.000\n",
      "Inferred cluster means:\n",
      "[[ 0.908872    0.9539399 ]\n",
      " [ 0.02487071  0.13640697]\n",
      " [-1.0054849  -0.96777964]]\n",
      " 94/200 [ 47%] ██████████████                 ETA: 1s | Acceptance Rate: 1.000\n",
      "Inferred cluster means:\n",
      "[[ 0.9106875   0.9552276 ]\n",
      " [ 0.02575042  0.13698114]\n",
      " [-1.0058347  -0.96764916]]\n",
      " 96/200 [ 48%] ██████████████                 ETA: 1s | Acceptance Rate: 1.000\n",
      "Inferred cluster means:\n",
      "[[ 0.91227233  0.9567398 ]\n",
      " [ 0.03531533  0.15163907]\n",
      " [-1.0058407  -0.9676682 ]]\n",
      " 98/200 [ 49%] ██████████████                 ETA: 1s | Acceptance Rate: 1.000\n",
      "Inferred cluster means:\n",
      "[[ 0.9139315   0.95835245]\n",
      " [ 0.03692632  0.16101758]\n",
      " [-1.0056977  -0.9678078 ]]\n",
      "100/200 [ 50%] ███████████████                ETA: 1s | Acceptance Rate: 1.000\n",
      "Inferred cluster means:\n",
      "[[ 0.9154965   0.95979065]\n",
      " [ 0.04599326  0.17879035]\n",
      " [-1.0058526  -0.9678001 ]]\n",
      "102/200 [ 51%] ███████████████                ETA: 1s | Acceptance Rate: 1.000\n",
      "Inferred cluster means:\n",
      "[[ 0.9168186   0.9612845 ]\n",
      " [ 0.05963137  0.16835643]\n",
      " [-1.0059049  -0.9681784 ]]\n",
      "104/200 [ 52%] ███████████████                ETA: 1s | Acceptance Rate: 1.000\n",
      "Inferred cluster means:\n",
      "[[ 0.91757214  0.96265876]\n",
      " [ 0.06680243  0.18678565]\n",
      " [-1.0060871  -0.96819144]]\n",
      "106/200 [ 53%] ███████████████                ETA: 1s | Acceptance Rate: 1.000\n",
      "Inferred cluster means:\n",
      "[[ 0.9188659   0.9635937 ]\n",
      " [ 0.07052585  0.19375338]\n",
      " [-1.006158   -0.9681426 ]]\n",
      "108/200 [ 54%] ████████████████               ETA: 1s | Acceptance Rate: 1.000\n",
      "Inferred cluster means:\n",
      "[[ 0.920145    0.96444494]\n",
      " [ 0.07450332  0.20730925]\n",
      " [-1.0065002  -0.9680585 ]]\n",
      "110/200 [ 55%] ████████████████               ETA: 1s | Acceptance Rate: 1.000\n",
      "Inferred cluster means:\n",
      "[[ 0.9218494   0.9657954 ]\n",
      " [ 0.06729087  0.22185929]\n",
      " [-1.0067679  -0.96759427]]\n",
      "112/200 [ 56%] ████████████████               ETA: 1s | Acceptance Rate: 1.000\n",
      "Inferred cluster means:\n",
      "[[ 0.9227681   0.96673083]\n",
      " [ 0.05406843  0.1961484 ]\n",
      " [-1.0072428  -0.9675117 ]]\n",
      "114/200 [ 56%] █████████████████              ETA: 1s | Acceptance Rate: 1.000\n",
      "Inferred cluster means:\n",
      "[[ 0.9243022   0.96733516]\n",
      " [ 0.05964373  0.19845372]\n",
      " [-1.0075315  -0.9675934 ]]\n",
      "116/200 [ 57%] █████████████████              ETA: 1s | Acceptance Rate: 1.000\n",
      "Inferred cluster means:\n",
      "[[ 0.9252561   0.9685354 ]\n",
      " [ 0.06807553  0.18484242]\n",
      " [-1.0077757  -0.96797806]]\n",
      "118/200 [ 59%] █████████████████              ETA: 1s | Acceptance Rate: 1.000\n",
      "Inferred cluster means:\n",
      "[[ 0.92577     0.9692318 ]\n",
      " [ 0.06483708  0.19504179]\n",
      " [-1.0077527  -0.9676806 ]]\n",
      "120/200 [ 60%] ██████████████████             ETA: 1s | Acceptance Rate: 1.000\n",
      "Inferred cluster means:\n",
      "[[ 0.92662036  0.96970224]\n",
      " [ 0.07199001  0.20314272]\n",
      " [-1.008141   -0.96757233]]\n",
      "122/200 [ 61%] ██████████████████             ETA: 1s | Acceptance Rate: 1.000\n",
      "Inferred cluster means:\n",
      "[[ 0.9272912   0.97075045]\n",
      " [ 0.07606099  0.19862604]\n",
      " [-1.0082307  -0.96751297]]\n",
      "124/200 [ 62%] ██████████████████             ETA: 1s | Acceptance Rate: 1.000\n",
      "Inferred cluster means:\n",
      "[[ 0.9277933   0.97161824]\n",
      " [ 0.09080473  0.19869591]\n",
      " [-1.0082914  -0.9676217 ]]\n",
      "126/200 [ 63%] ██████████████████             ETA: 1s | Acceptance Rate: 1.000\n",
      "Inferred cluster means:\n",
      "[[ 0.92825574  0.97265536]\n",
      " [ 0.08703122  0.19878176]\n",
      " [-1.0080082  -0.9675516 ]]\n",
      "128/200 [ 64%] ███████████████████            ETA: 1s | Acceptance Rate: 1.000\n",
      "Inferred cluster means:\n",
      "[[ 0.9290099   0.9734442 ]\n",
      " [ 0.09583835  0.2070433 ]\n",
      " [-1.0082424  -0.9676148 ]]\n",
      "130/200 [ 65%] ███████████████████            ETA: 1s | Acceptance Rate: 1.000\n",
      "Inferred cluster means:\n",
      "[[ 0.9297599   0.9742948 ]\n",
      " [ 0.10785447  0.20239866]\n",
      " [-1.0081481  -0.96769214]]\n",
      "132/200 [ 66%] ███████████████████            ETA: 1s | Acceptance Rate: 1.000\n",
      "Inferred cluster means:\n",
      "[[ 0.93058014  0.9750215 ]\n",
      " [ 0.12346553  0.21746202]\n",
      " [-1.0083102  -0.967803  ]]\n",
      "134/200 [ 67%] ████████████████████           ETA: 1s | Acceptance Rate: 1.000\n",
      "Inferred cluster means:\n",
      "[[ 0.93164927  0.97587025]\n",
      " [ 0.12377316  0.217238  ]\n",
      " [-1.0083349  -0.96800005]]\n",
      "136/200 [ 68%] ████████████████████           ETA: 0s | Acceptance Rate: 1.000\n",
      "Inferred cluster means:\n",
      "[[ 0.93248093  0.9766442 ]\n",
      " [ 0.12650715  0.22999245]\n",
      " [-1.008323   -0.96792907]]\n",
      "138/200 [ 69%] ████████████████████           ETA: 0s | Acceptance Rate: 1.000\n",
      "Inferred cluster means:\n",
      "[[ 0.93337977  0.9769327 ]\n",
      " [ 0.12068585  0.22079921]\n",
      " [-1.0086182  -0.9679315 ]]\n",
      "140/200 [ 70%] █████████████████████          ETA: 0s | Acceptance Rate: 1.000\n",
      "Inferred cluster means:\n",
      "[[ 0.93403053  0.9780269 ]\n",
      " [ 0.10321286  0.20787767]\n",
      " [-1.0086609  -0.96802306]]\n",
      "142/200 [ 71%] █████████████████████          ETA: 0s | Acceptance Rate: 1.000\n",
      "Inferred cluster means:\n",
      "[[ 0.9344857   0.9787574 ]\n",
      " [ 0.08922251  0.19679046]\n",
      " [-1.0088462  -0.9681334 ]]\n",
      "144/200 [ 72%] █████████████████████          ETA: 0s | Acceptance Rate: 1.000\n",
      "Inferred cluster means:\n",
      "[[ 0.93503374  0.9796307 ]\n",
      " [ 0.0757871   0.19192877]\n",
      " [-1.0087442  -0.9681124 ]]\n",
      "146/200 [ 73%] █████████████████████          ETA: 0s | Acceptance Rate: 1.000\n",
      "Inferred cluster means:\n",
      "[[ 0.9359814   0.97983843]\n",
      " [ 0.05989883  0.17300154]\n",
      " [-1.0087743  -0.96797687]]\n",
      "148/200 [ 74%] ██████████████████████         ETA: 0s | Acceptance Rate: 1.000\n",
      "Inferred cluster means:\n",
      "[[ 0.9365421   0.9806255 ]\n",
      " [ 0.0505037   0.17444454]\n",
      " [-1.0089123  -0.9679162 ]]\n",
      "150/200 [ 75%] ██████████████████████         ETA: 0s | Acceptance Rate: 1.000\n",
      "Inferred cluster means:\n",
      "[[ 0.93717396  0.9815209 ]\n",
      " [ 0.04522322  0.15962514]\n",
      " [-1.0090721  -0.96796215]]\n",
      "152/200 [ 76%] ██████████████████████         ETA: 0s | Acceptance Rate: 1.000\n",
      "Inferred cluster means:\n",
      "[[ 0.93821543  0.9822503 ]\n",
      " [ 0.04762138  0.14242235]\n",
      " [-1.0091606  -0.9680492 ]]\n",
      "154/200 [ 77%] ███████████████████████        ETA: 0s | Acceptance Rate: 1.000\n",
      "Inferred cluster means:\n",
      "[[ 0.9387484   0.98261815]\n",
      " [ 0.04168114  0.13178076]\n",
      " [-1.0093417  -0.9677933 ]]\n",
      "156/200 [ 78%] ███████████████████████        ETA: 0s | Acceptance Rate: 1.000\n",
      "Inferred cluster means:\n",
      "[[ 0.9391996   0.9830647 ]\n",
      " [ 0.04103108  0.12357587]\n",
      " [-1.0093827  -0.96757114]]\n",
      "158/200 [ 79%] ███████████████████████        ETA: 0s | Acceptance Rate: 1.000\n",
      "Inferred cluster means:\n",
      "[[ 0.9398889   0.98323387]\n",
      " [ 0.02880361  0.11080204]\n",
      " [-1.0094942  -0.9674357 ]]\n",
      "160/200 [ 80%] ████████████████████████       ETA: 0s | Acceptance Rate: 1.000\n",
      "Inferred cluster means:\n",
      "[[ 0.9406576   0.9835778 ]\n",
      " [ 0.0274576   0.12669142]\n",
      " [-1.0094173  -0.96776396]]\n",
      "162/200 [ 81%] ████████████████████████       ETA: 0s | Acceptance Rate: 1.000\n",
      "Inferred cluster means:\n",
      "[[ 0.94122815  0.9840178 ]\n",
      " [ 0.03003162  0.12921219]\n",
      " [-1.0092299  -0.967692  ]]\n",
      "164/200 [ 82%] ████████████████████████       ETA: 0s | Acceptance Rate: 1.000\n",
      "Inferred cluster means:\n",
      "[[ 0.9416535   0.9845011 ]\n",
      " [ 0.0331706   0.13360946]\n",
      " [-1.0094713  -0.9678775 ]]\n",
      "166/200 [ 83%] ████████████████████████       ETA: 0s | Acceptance Rate: 1.000\n",
      "Inferred cluster means:\n",
      "[[ 0.9421382   0.9855251 ]\n",
      " [ 0.03789017  0.11961998]\n",
      " [-1.0097222  -0.9678076 ]]\n",
      "168/200 [ 84%] █████████████████████████      ETA: 0s | Acceptance Rate: 1.000\n",
      "Inferred cluster means:\n",
      "[[ 0.94258463  0.9858255 ]\n",
      " [ 0.05446341  0.11253649]\n",
      " [-1.0098554  -0.9680968 ]]\n",
      "170/200 [ 85%] █████████████████████████      ETA: 0s | Acceptance Rate: 1.000\n",
      "Inferred cluster means:\n",
      "[[ 0.9428197   0.9858651 ]\n",
      " [ 0.05427951  0.11141117]\n",
      " [-1.0099329  -0.96847993]]\n",
      "172/200 [ 86%] █████████████████████████      ETA: 0s | Acceptance Rate: 1.000\n",
      "Inferred cluster means:\n",
      "[[ 0.9433203   0.9866152 ]\n",
      " [ 0.04642532  0.10856916]\n",
      " [-1.0097485  -0.9683849 ]]\n",
      "174/200 [ 87%] ██████████████████████████     ETA: 0s | Acceptance Rate: 1.000\n",
      "Inferred cluster means:\n",
      "[[ 0.9437434   0.98726255]\n",
      " [ 0.04358872  0.10210878]\n",
      " [-1.0096484  -0.9682805 ]]\n",
      "176/200 [ 88%] ██████████████████████████     ETA: 0s | Acceptance Rate: 1.000\n",
      "Inferred cluster means:\n",
      "[[ 0.9442544   0.9876328 ]\n",
      " [ 0.03548072  0.09749334]\n",
      " [-1.0096165  -0.96818095]]\n"
     ]
    },
    {
     "name": "stdout",
     "output_type": "stream",
     "text": [
      "178/200 [ 89%] ██████████████████████████     ETA: 0s | Acceptance Rate: 1.000\n",
      "Inferred cluster means:\n",
      "[[ 0.94473505  0.98813546]\n",
      " [ 0.04457749  0.09596567]\n",
      " [-1.0097263  -0.9681047 ]]\n",
      "180/200 [ 90%] ███████████████████████████    ETA: 0s | Acceptance Rate: 1.000\n",
      "Inferred cluster means:\n",
      "[[ 0.9450188   0.98833966]\n",
      " [ 0.03245955  0.09426638]\n",
      " [-1.0098699  -0.96788645]]\n",
      "182/200 [ 91%] ███████████████████████████    ETA: 0s | Acceptance Rate: 1.000\n",
      "Inferred cluster means:\n",
      "[[ 0.9453717   0.98846394]\n",
      " [ 0.02375729  0.08380356]\n",
      " [-1.010116   -0.9682183 ]]\n",
      "184/200 [ 92%] ███████████████████████████    ETA: 0s | Acceptance Rate: 1.000\n",
      "Inferred cluster means:\n",
      "[[ 0.9459488   0.98895425]\n",
      " [ 0.01448025  0.08911777]\n",
      " [-1.0101343  -0.96804976]]\n",
      "186/200 [ 93%] ███████████████████████████    ETA: 0s | Acceptance Rate: 1.000\n",
      "Inferred cluster means:\n",
      "[[ 0.9464532   0.98911923]\n",
      " [ 0.01499475  0.08331109]\n",
      " [-1.0100842  -0.96812075]]\n",
      "188/200 [ 94%] ████████████████████████████   ETA: 0s | Acceptance Rate: 1.000\n",
      "Inferred cluster means:\n",
      "[[ 0.94679165  0.98939353]\n",
      " [ 0.01128972  0.0841508 ]\n",
      " [-1.0100114  -0.96813834]]\n",
      "190/200 [ 95%] ████████████████████████████   ETA: 0s | Acceptance Rate: 1.000\n",
      "Inferred cluster means:\n",
      "[[ 0.94735146  0.98982674]\n",
      " [ 0.00468713  0.07347003]\n",
      " [-1.0100253  -0.9680607 ]]\n",
      "192/200 [ 96%] ████████████████████████████   ETA: 0s | Acceptance Rate: 1.000\n",
      "Inferred cluster means:\n",
      "[[ 0.9479035   0.99022776]\n",
      " [-0.00179394  0.07373927]\n",
      " [-1.0101169  -0.96815354]]\n",
      "194/200 [ 97%] █████████████████████████████  ETA: 0s | Acceptance Rate: 1.000\n",
      "Inferred cluster means:\n",
      "[[ 0.9481322   0.9906031 ]\n",
      " [-0.00268067  0.07686095]\n",
      " [-1.0100205  -0.9681765 ]]\n",
      "196/200 [ 98%] █████████████████████████████  ETA: 0s | Acceptance Rate: 1.000\n",
      "Inferred cluster means:\n",
      "[[ 0.9485809   0.9909042 ]\n",
      " [-0.00291689  0.08360625]\n",
      " [-1.0103173  -0.96818566]]\n",
      "198/200 [ 99%] █████████████████████████████  ETA: 0s | Acceptance Rate: 1.000\n",
      "Inferred cluster means:\n",
      "[[ 0.9487165   0.99137044]\n",
      " [-0.01319599  0.07301923]\n",
      " [-1.010465   -0.96792597]]\n",
      "200/200 [100%] ██████████████████████████████ Elapsed: 2s | Acceptance Rate: 1.000\n",
      "\n",
      "Inferred cluster means:\n",
      "[[ 0.94920236  0.99157816]\n",
      " [-0.01966778  0.06330193]\n",
      " [-1.0105339  -0.96799207]]\n"
     ]
    }
   ],
   "source": [
    "inference = ed.Gibbs({pi: qpi, mu: qmu, sigmasq: qsigmasq, z: qz},\n",
    "                     data={x: x_train})\n",
    "inference.initialize()\n",
    "\n",
    "sess = ed.get_session()\n",
    "tf.global_variables_initializer().run()\n",
    "\n",
    "t_ph = tf.placeholder(tf.int32, [])\n",
    "running_cluster_means = tf.reduce_mean(qmu.params[:t_ph], 0)\n",
    "\n",
    "for _ in range(inference.n_iter):\n",
    "    info_dict = inference.update()\n",
    "    inference.print_progress(info_dict)\n",
    "    t = info_dict['t']\n",
    "    if t % inference.n_print == 0:\n",
    "        print(\"\\nInferred cluster means:\")\n",
    "        print(sess.run(running_cluster_means, {t_ph: t - 1}))"
   ]
  },
  {
   "cell_type": "code",
   "execution_count": 7,
   "metadata": {},
   "outputs": [],
   "source": [
    "mu_sample = qmu.sample(100) #(sample size, K, D)\n",
    "sigmasq_sample = qsigmasq.sample(100)\n",
    "x_post = Normal(loc=tf.ones([N, 1, 1, 1]) * mu_sample,\n",
    "                scale=tf.ones([N, 1, 1, 1]) * tf.sqrt(sigmasq_sample))   #(T, sample size, K, D)\n",
    "x_broadcasted = tf.tile(tf.reshape(x_train, [N, 1, 1, D]), [1, 100, K, 1])  \n",
    "\n",
    "# Sum over latent dimension, then average over posterior samples.\n",
    "# ``log_liks`` ends up with shape (N, K).\n",
    "log_liks = x_post.log_prob(x_broadcasted)\n",
    "log_liks = tf.reduce_sum(log_liks, 3)\n",
    "log_liks = tf.reduce_mean(log_liks, 1)"
   ]
  },
  {
   "cell_type": "code",
   "execution_count": 8,
   "metadata": {},
   "outputs": [],
   "source": [
    "clusters = tf.argmax(log_liks, 1).eval()"
   ]
  },
  {
   "cell_type": "code",
   "execution_count": 9,
   "metadata": {},
   "outputs": [
    {
     "data": {
      "image/png": "[encoded data removed]",
      "text/plain": [
       "<Figure size 432x288 with 1 Axes>"
      ]
     },
     "metadata": {
      "needs_background": "light"
     },
     "output_type": "display_data"
    }
   ],
   "source": [
    "plt.scatter(x_train[:, 0], x_train[:, 1], c=clusters, cmap=cm.bwr)\n",
    "plt.axis([-3, 3, -3, 3])\n",
    "plt.title(\"Predicted cluster assignments\")\n",
    "plt.show()"
   ]
  },
  {
   "cell_type": "code",
   "execution_count": 10,
   "metadata": {},
   "outputs": [],
   "source": [
    "M = 100\n",
    "pi_sample = qpi.sample(M) # (100 * K)"
   ]
  },
  {
   "cell_type": "code",
   "execution_count": 11,
   "metadata": {},
   "outputs": [
    {
     "data": {
      "text/plain": [
       "<tf.Tensor 'Empirical/sample_1/Reshape_2:0' shape=(300, 3) dtype=float32>"
      ]
     },
     "execution_count": 11,
     "metadata": {},
     "output_type": "execute_result"
    }
   ],
   "source": [
    "pi_sample"
   ]
  },
  {
   "cell_type": "markdown",
   "metadata": {},
   "source": [
    "### Posterior Dispersion Index"
   ]
  },
  {
   "cell_type": "code",
   "execution_count": 12,
   "metadata": {},
   "outputs": [],
   "source": [
    "log_liks2 = x_post.log_prob(x_broadcasted) "
   ]
  },
  {
   "cell_type": "code",
   "execution_count": 13,
   "metadata": {},
   "outputs": [],
   "source": [
    "log_liks2 = tf.reduce_sum(log_liks2, 3)"
   ]
  },
  {
   "cell_type": "code",
   "execution_count": 14,
   "metadata": {},
   "outputs": [
    {
     "data": {
      "text/plain": [
       "<tf.Tensor 'Sum_1:0' shape=(500, 100, 3) dtype=float32>"
      ]
     },
     "execution_count": 14,
     "metadata": {},
     "output_type": "execute_result"
    }
   ],
   "source": [
    "log_liks2"
   ]
  },
  {
   "cell_type": "code",
   "execution_count": 15,
   "metadata": {},
   "outputs": [],
   "source": [
    "pi_samples_tiled = tf.tile(tf.expand_dims(tf.transpose(pi_sample), 0), [N, 1,1]) # [500, 7, 100], [N, K, M]"
   ]
  },
  {
   "cell_type": "markdown",
   "metadata": {},
   "source": [
    "### PDI definition"
   ]
  },
  {
   "cell_type": "code",
   "execution_count": 16,
   "metadata": {},
   "outputs": [],
   "source": [
    "p_x_given_theta = tf.matmul(tf.exp(log_liks2), pi_samples_tiled) #[N, ?, ?] in this case is different pi and (mu, sigma) combo\n",
    "p_x_given_theta = tf.reshape(p_x_given_theta, [N, -1]) # [N, ? * ?]"
   ]
  },
  {
   "cell_type": "code",
   "execution_count": 17,
   "metadata": {},
   "outputs": [],
   "source": [
    "mean, variance = tf.nn.moments(p_x_given_theta, axes=[1])"
   ]
  },
  {
   "cell_type": "code",
   "execution_count": 18,
   "metadata": {},
   "outputs": [],
   "source": [
    "pdi = tf.div(variance, mean)"
   ]
  },
  {
   "cell_type": "code",
   "execution_count": 19,
   "metadata": {},
   "outputs": [],
   "source": [
    "pdi_values = sess.run(pdi)"
   ]
  },
  {
   "cell_type": "code",
   "execution_count": 20,
   "metadata": {},
   "outputs": [
    {
     "data": {
      "text/plain": [
       "array([0.26934355, 0.17912969, 0.12939413, 0.12611565, 0.12323079],\n",
       "      dtype=float32)"
      ]
     },
     "execution_count": 20,
     "metadata": {},
     "output_type": "execute_result"
    }
   ],
   "source": [
    "largest_five_pdis = pdi_values.argsort()[-5:][::-1]\n",
    "pdi_values[largest_five_pdis]"
   ]
  },
  {
   "cell_type": "code",
   "execution_count": 21,
   "metadata": {},
   "outputs": [
    {
     "data": {
      "image/png": "[encoded data removed]",
      "text/plain": [
       "<Figure size 432x288 with 1 Axes>"
      ]
     },
     "metadata": {
      "needs_background": "light"
     },
     "output_type": "display_data"
    }
   ],
   "source": [
    "num_top_pdis = 50\n",
    "largest_pdis = pdi_values.argsort()[-num_top_pdis:][::-1]\n",
    "plt.scatter(x_train[:, 0], x_train[:, 1], c=clusters, cmap=cm.bwr)\n",
    "plt.axis([-3, 3, -3, 3])\n",
    "plt.title(\"Predicted cluster assignments\")\n",
    "for i in range(num_top_pdis): \n",
    "    plt.text(x_train[largest_pdis[i]][0],x_train[largest_pdis[i]][1] , \"o\", fontsize=10)\n",
    "plt.show()"
   ]
  },
  {
   "cell_type": "code",
   "execution_count": null,
   "metadata": {},
   "outputs": [],
   "source": []
  },
  {
   "cell_type": "code",
   "execution_count": null,
   "metadata": {},
   "outputs": [],
   "source": []
  },
  {
   "cell_type": "markdown",
   "metadata": {},
   "source": [
    "### WAPDI definition"
   ]
  },
  {
   "cell_type": "code",
   "execution_count": 22,
   "metadata": {},
   "outputs": [],
   "source": [
    "p_x_given_theta_2 = tf.matmul(tf.exp(log_liks2), pi_samples_tiled)\n",
    "p_x_given_theta_2 = tf.reshape(tf.log(p_x_given_theta), [N, -1])\n",
    "mean_2, variance_2 = tf.nn.moments(p_x_given_theta_2, axes=[1])\n",
    "wapdi = tf.div(variance_2, mean_2)"
   ]
  },
  {
   "cell_type": "code",
   "execution_count": 23,
   "metadata": {},
   "outputs": [],
   "source": [
    "wapdi_values = sess.run(wapdi)"
   ]
  },
  {
   "cell_type": "code",
   "execution_count": null,
   "metadata": {},
   "outputs": [],
   "source": []
  },
  {
   "cell_type": "code",
   "execution_count": 24,
   "metadata": {},
   "outputs": [],
   "source": [
    "largest_five_wapdis = wapdi_values.argsort()[-5:][::-1]"
   ]
  },
  {
   "cell_type": "code",
   "execution_count": 25,
   "metadata": {},
   "outputs": [
    {
     "data": {
      "text/plain": [
       "array([-0.05506933, -0.05766321, -0.06022812, -0.07234602, -0.08529463],\n",
       "      dtype=float32)"
      ]
     },
     "execution_count": 25,
     "metadata": {},
     "output_type": "execute_result"
    }
   ],
   "source": [
    "wapdi_values[largest_five_wapdis]"
   ]
  },
  {
   "cell_type": "code",
   "execution_count": 26,
   "metadata": {},
   "outputs": [
    {
     "data": {
      "text/plain": [
       "array([300, 271, 209, 341, 275])"
      ]
     },
     "execution_count": 26,
     "metadata": {},
     "output_type": "execute_result"
    }
   ],
   "source": [
    "largest_five_wapdis"
   ]
  },
  {
   "cell_type": "code",
   "execution_count": 27,
   "metadata": {},
   "outputs": [
    {
     "data": {
      "text/plain": [
       "array([-0.12142027, -0.622538  ], dtype=float32)"
      ]
     },
     "execution_count": 27,
     "metadata": {},
     "output_type": "execute_result"
    }
   ],
   "source": [
    "x_train[largest_five_pdis[1]]"
   ]
  },
  {
   "cell_type": "code",
   "execution_count": 28,
   "metadata": {},
   "outputs": [
    {
     "data": {
      "image/png": "[encoded data removed]",
      "text/plain": [
       "<Figure size 432x288 with 1 Axes>"
      ]
     },
     "metadata": {
      "needs_background": "light"
     },
     "output_type": "display_data"
    }
   ],
   "source": [
    "plt.scatter(x_train[:, 0], x_train[:, 1], c=clusters, cmap=cm.bwr)\n",
    "plt.axis([-3, 3, -3, 3])\n",
    "plt.title(\"Predicted cluster assignments\")\n",
    "plt.text(x_train[largest_five_wapdis[0]][0],x_train[largest_five_wapdis[0]][1] , \"o\", fontsize=10)\n",
    "plt.text(x_train[largest_five_wapdis[1]][0],x_train[largest_five_wapdis[1]][1] , \"o\", fontsize=10)\n",
    "plt.text(x_train[largest_five_wapdis[2]][0],x_train[largest_five_wapdis[2]][1] , \"o\", fontsize=10)\n",
    "plt.text(x_train[largest_five_wapdis[3]][0],x_train[largest_five_wapdis[3]][1] , \"o\", fontsize=10)\n",
    "plt.text(x_train[largest_five_wapdis[4]][0],x_train[largest_five_wapdis[4]][1] , \"o\", fontsize=10)\n",
    "plt.show()"
   ]
  },
  {
   "cell_type": "code",
   "execution_count": 29,
   "metadata": {},
   "outputs": [
    {
     "data": {
      "image/png": "[encoded data removed]",
      "text/plain": [
       "<Figure size 432x288 with 1 Axes>"
      ]
     },
     "metadata": {
      "needs_background": "light"
     },
     "output_type": "display_data"
    }
   ],
   "source": [
    "num_top_wapdis = 50\n",
    "largest_wapdis = wapdi_values.argsort()[-num_top_wapdis:][::-1]\n",
    "plt.scatter(x_train[:, 0], x_train[:, 1], c=clusters, cmap=cm.bwr)\n",
    "plt.axis([-3, 3, -3, 3])\n",
    "plt.title(\"Predicted cluster assignments\")\n",
    "for i in range(num_top_wapdis): \n",
    "    plt.text(x_train[largest_wapdis[i]][0],x_train[largest_wapdis[i]][1] , \"o\", fontsize=10)\n",
    "plt.show()"
   ]
  },
  {
   "cell_type": "code",
   "execution_count": null,
   "metadata": {},
   "outputs": [],
   "source": []
  },
  {
   "cell_type": "code",
   "execution_count": null,
   "metadata": {},
   "outputs": [],
   "source": []
  },
  {
   "cell_type": "code",
   "execution_count": null,
   "metadata": {},
   "outputs": [],
   "source": []
  },
  {
   "cell_type": "code",
   "execution_count": null,
   "metadata": {},
   "outputs": [],
   "source": []
  },
  {
   "cell_type": "code",
   "execution_count": 2,
   "metadata": {},
   "outputs": [],
   "source": [
    "import tensorflow as tf"
   ]
  },
  {
   "cell_type": "code",
   "execution_count": 26,
   "metadata": {},
   "outputs": [
    {
     "name": "stdout",
     "output_type": "stream",
     "text": [
      "12.0\n",
      "[[[1. 1.]\n",
      "  [1. 1.]\n",
      "  [1. 1.]\n",
      "  [1. 1.]]\n",
      "\n",
      " [[2. 2.]\n",
      "  [2. 2.]\n",
      "  [2. 2.]\n",
      "  [2. 2.]]\n",
      "\n",
      " [[3. 3.]\n",
      "  [3. 3.]\n",
      "  [3. 3.]\n",
      "  [3. 3.]]]\n",
      "[[-219    0 -165]\n",
      " [   0   -1   -5]]\n"
     ]
    }
   ],
   "source": [
    "a_0 = tf.expand_dims(tf.constant([ [1, 1], [2, 2], [3, 3] ], dtype='float32'), 1)\n",
    "w_0 = tf.constant([ [0,0], [0,0], [0,0], [0,0] ],dtype = 'float32')\n",
    "x = tf.constant([[1, 220, 55], [4, 3, -1]])\n",
    "x_pseudo_max = tf.constant([[220],[4]])\n",
    "x_max = tf.expand_dims(tf.reduce_max(x, reduction_indices=[1]), axis=1)\n",
    "with tf.Session() as sess2:\n",
    "    print(sess2.run(tf.reduce_sum(a_0)))\n",
    "    print(sess2.run(tf.add(a_0,w_0)))\n",
    "    print (sess2.run(tf.add(x, -x_max)))\n",
    "    #print(tf.reduce_mean(tf.matmul(a_0, w_0), 0).eval())\n",
    "    #print(sess.run(tf.reduce_sum(tf.log(tf.reduce_mean(tf.matmul(a_0, w_0), 0)))))"
   ]
  },
  {
   "cell_type": "code",
   "execution_count": null,
   "metadata": {},
   "outputs": [],
   "source": []
  },
  {
   "cell_type": "code",
   "execution_count": null,
   "metadata": {},
   "outputs": [],
   "source": []
  }
 ],
 "metadata": {
  "kernelspec": {
   "display_name": "Python [conda env:mlprobprog]",
   "language": "python",
   "name": "conda-env-mlprobprog-py"
  },
  "language_info": {
   "codemirror_mode": {
    "name": "ipython",
    "version": 3
   },
   "file_extension": ".py",
   "mimetype": "text/x-python",
   "name": "python",
   "nbconvert_exporter": "python",
   "pygments_lexer": "ipython3",
   "version": "3.6.6"
  }
 },
 "nbformat": 4,
 "nbformat_minor": 2
}
