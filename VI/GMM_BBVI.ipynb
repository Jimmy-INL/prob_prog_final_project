{
 "cells": [
  {
   "cell_type": "code",
   "execution_count": 1,
   "metadata": {},
   "outputs": [],
   "source": [
    "%matplotlib inline\n",
    "\n",
    "import edward as ed\n",
    "import matplotlib.pyplot as plt\n",
    "import matplotlib.cm as cm\n",
    "import numpy as np\n",
    "import six\n",
    "import tensorflow as tf\n",
    "import time\n",
    "from edward.models import (\n",
    "    Categorical, Dirichlet, Empirical, InverseGamma, InverseGammaWithSoftplusConcentrationRate,\n",
    "    MultivariateNormalDiag, Normal, ParamMixture, Mixture)\n",
    "\n",
    "plt.style.use('ggplot')"
   ]
  },
  {
   "cell_type": "markdown",
   "metadata": {},
   "source": [
    "# Data"
   ]
  },
  {
   "cell_type": "code",
   "execution_count": 2,
   "metadata": {},
   "outputs": [
    {
     "data": {
      "text/plain": [
       "(500, 2)"
      ]
     },
     "execution_count": 2,
     "metadata": {},
     "output_type": "execute_result"
    }
   ],
   "source": [
    "def build_toy_dataset(N, K):\n",
    "    pi = np.array([1/3, 1/3, 1/3])\n",
    "    mus = [[1, 1], [-1, -1], [-2,2]]\n",
    "    stds = [[0.1, 0.1], [0.1, 0.1], [0.2, 0.2]]\n",
    "    x = np.zeros((N, 2), dtype=np.float32)\n",
    "    for n in range(N):\n",
    "        k = np.argmax(np.random.multinomial(1, pi))\n",
    "        x[n, :] = np.random.multivariate_normal(mus[k], np.diag(stds[k]))\n",
    "\n",
    "    return x\n",
    "\n",
    "\n",
    "N = 500  # number of data points\n",
    "K = 3  # number of components\n",
    "D = 2  # dimensionality of data\n",
    "\n",
    "x_train = build_toy_dataset(N, K)\n",
    "\n",
    "x_train.shape"
   ]
  },
  {
   "cell_type": "code",
   "execution_count": 3,
   "metadata": {},
   "outputs": [
    {
     "data": {
      "image/png": "[encoded data removed]",
      "text/plain": [
       "<Figure size 432x288 with 1 Axes>"
      ]
     },
     "metadata": {
      "needs_background": "light"
     },
     "output_type": "display_data"
    }
   ],
   "source": [
    "plt.scatter(x_train[:, 0], x_train[:, 1])\n",
    "plt.axis([-5, 5, -3, 5])\n",
    "plt.title(\"Simulated dataset\")\n",
    "plt.show()"
   ]
  },
  {
   "cell_type": "markdown",
   "metadata": {},
   "source": [
    "# Model\n",
    "\n",
    "$$\\text{Pr}(\\textbf{x}_i|\\boldsymbol{\\pi},\\boldsymbol{\\mu},\\boldsymbol{\\Sigma})=\\sum_{k=1}^K \\pi_k \\text{N}(\\textbf{x}_i|\\mu_k,\\Sigma_k)$$\n",
    "\n",
    "$$\\begin{aligned}\n",
    "\\pi_k\\sim&\\text{Dir}(\\pi_k|\\boldsymbol{\\alpha})\\\\\n",
    "\\mu_k\\sim&\\text{N}(\\mu_k|\\mathbf{0},\\mathbf{I})\\\\\n",
    "\\sigma_k^2 \\sim&\\text{InverseGamma}(a,b)\n",
    "\\end{aligned}$$"
   ]
  },
  {
   "cell_type": "code",
   "execution_count": 22,
   "metadata": {},
   "outputs": [
    {
     "data": {
      "text/plain": [
       "TensorShape([Dimension(3), Dimension(2)])"
      ]
     },
     "execution_count": 22,
     "metadata": {},
     "output_type": "execute_result"
    }
   ],
   "source": [
    "\"\"\"\n",
    "pi = Dirichlet(tf.ones(K))\n",
    "mu = Normal(tf.zeros(D), tf.ones(D), sample_shape=K)\n",
    "sigmasq = InverseGamma(tf.ones(D), tf.ones(D), sample_shape=K)\n",
    "x = ParamMixture(pi, {'loc': mu, 'scale_diag': tf.sqrt(sigmasq)},\n",
    "                 MultivariateNormalDiag,\n",
    "                 sample_shape=N)\n",
    "z = x.cat\n",
    "\n",
    "\"\"\"\n",
    "pi = Dirichlet(tf.ones(K))\n",
    "mu = Normal(tf.zeros(D), tf.ones(D), sample_shape=K) # shape K by D\n",
    "sigmasq = InverseGamma(tf.ones(D), tf.ones(D), sample_shape=K) # shape K by D\n",
    "cat = Categorical(probs=pi, sample_shape=N)\n",
    "#components = [\n",
    "#    MultivariateNormalDiag(mu[k], tf.sqrt(sigmasq[k]), sample_shape=N)\n",
    "#    for k in range(K)]\n",
    "components = [\n",
    "    MultivariateNormalDiag(tf.gather(mu,k), \n",
    "                               tf.sqrt(tf.gather(sigmasq, k)),sample_shape=N)\n",
    "    for k in range(K)]\n",
    "x = Mixture(cat=cat, components=components, sample_shape=N)\n"
   ]
  },
  {
   "cell_type": "markdown",
   "metadata": {},
   "source": [
    "# Inference (only for mu)"
   ]
  },
  {
   "cell_type": "code",
   "execution_count": null,
   "metadata": {},
   "outputs": [],
   "source": [
    "qmu = Normal(\n",
    "    loc=tf.Variable(tf.random_normal([K, D])),\n",
    "    scale=tf.nn.softplus(tf.Variable(tf.ones([K, D]))))\n",
    "\n",
    "qsigma_sq = InverseGamma(tf.nn.softplus(tf.Variable(tf.random_normal([K, D]))), \n",
    "                         tf.nn.softplus(tf.Variable(tf.random_normal([K, D])*0.5)))"
   ]
  },
  {
   "cell_type": "code",
   "execution_count": 20,
   "metadata": {},
   "outputs": [
    {
     "name": "stderr",
     "output_type": "stream",
     "text": [
      "/Users/leah/Columbia/courses/ml_prob_programming/ENV/lib/python3.6/site-packages/edward/util/random_variables.py:52: FutureWarning: Conversion of the second argument of issubdtype from `float` to `np.floating` is deprecated. In future, it will be treated as `np.float64 == np.dtype(float).type`.\n",
      "  not np.issubdtype(value.dtype, np.float) and \\\n"
     ]
    },
    {
     "name": "stdout",
     "output_type": "stream",
     "text": [
      "  50/2000 [  2%]                                ETA: 3295s | Loss: 1866.071  \n",
      "Inferred cluster means:\n",
      "[[-1.6693013   1.8315246 ]\n",
      " [-0.674442   -0.03988221]\n",
      " [ 0.34561136  0.63831705]]\n",
      " 100/2000 [  5%] █                              ETA: 1639s | Loss: 1843.311\n",
      "Inferred cluster means:\n",
      "[[-1.6180805  1.7634394]\n",
      " [-0.9038325 -0.6466626]\n",
      " [ 0.6194528  0.9881835]]\n",
      " 150/2000 [  7%] ██                             ETA: 1088s | Loss: 1887.912\n",
      "Inferred cluster means:\n",
      "[[-1.7397997   1.8122859 ]\n",
      " [-0.8236396  -0.5572061 ]\n",
      " [ 0.6908876   0.91761535]]\n",
      " 200/2000 [ 10%] ███                            ETA: 806s | Loss: 1863.772 \n",
      "Inferred cluster means:\n",
      "[[-1.7347629   1.7722563 ]\n",
      " [-0.8440941  -0.59667814]\n",
      " [ 0.65352523  0.9330764 ]]\n",
      " 250/2000 [ 12%] ███                            ETA: 636s | Loss: 1903.082\n",
      "Inferred cluster means:\n",
      "[[-1.6728203  1.7342739]\n",
      " [-0.9012916 -0.5914128]\n",
      " [ 0.7702934  0.9840813]]\n",
      " 300/2000 [ 15%] ████                           ETA: 522s | Loss: 1862.319\n",
      "Inferred cluster means:\n",
      "[[-1.7292662  1.8167135]\n",
      " [-0.8578847 -0.505051 ]\n",
      " [ 0.6430051  0.9677921]]\n",
      " 350/2000 [ 17%] █████                          ETA: 439s | Loss: 1852.876\n",
      "Inferred cluster means:\n",
      "[[-1.6393179   1.7489959 ]\n",
      " [-0.84410685 -0.627402  ]\n",
      " [ 0.7161413   0.9767873 ]]\n",
      " 400/2000 [ 20%] ██████                         ETA: 378s | Loss: 1842.031\n",
      "Inferred cluster means:\n",
      "[[-1.694656    1.7102321 ]\n",
      " [-0.8937704  -0.66768175]\n",
      " [ 0.71075755  1.018171  ]]\n",
      " 450/2000 [ 22%] ██████                         ETA: 329s | Loss: 1838.705\n",
      "Inferred cluster means:\n",
      "[[-1.6657735  1.7325006]\n",
      " [-0.8505547 -0.6454507]\n",
      " [ 0.6516195  0.9859065]]\n",
      " 500/2000 [ 25%] ███████                        ETA: 291s | Loss: 1844.251\n",
      "Inferred cluster means:\n",
      "[[-1.6990929   1.8104179 ]\n",
      " [-0.87502635 -0.59682465]\n",
      " [ 0.6412523   0.92939997]]\n",
      " 550/2000 [ 27%] ████████                       ETA: 259s | Loss: 1837.394\n",
      "Inferred cluster means:\n",
      "[[-1.6821427   1.7775373 ]\n",
      " [-0.9234414  -0.6224682 ]\n",
      " [ 0.7010315   0.98797196]]\n",
      " 600/2000 [ 30%] █████████                      ETA: 233s | Loss: 1892.290\n",
      "Inferred cluster means:\n",
      "[[-1.6206368   1.7312994 ]\n",
      " [-0.8568757  -0.52272886]\n",
      " [ 0.6717511   1.0349796 ]]\n",
      " 650/2000 [ 32%] █████████                      ETA: 210s | Loss: 1842.866\n",
      "Inferred cluster means:\n",
      "[[-1.6327337   1.7716544 ]\n",
      " [-0.9246496  -0.54730153]\n",
      " [ 0.6462217   0.964378  ]]\n",
      " 700/2000 [ 35%] ██████████                     ETA: 190s | Loss: 1854.101\n",
      "Inferred cluster means:\n",
      "[[-1.6937962   1.7800183 ]\n",
      " [-0.921557   -0.5553437 ]\n",
      " [ 0.64114213  1.0229992 ]]\n",
      " 750/2000 [ 37%] ███████████                    ETA: 173s | Loss: 1863.669\n",
      "Inferred cluster means:\n",
      "[[-1.6802448   1.7804554 ]\n",
      " [-0.8509299  -0.61010534]\n",
      " [ 0.7036069   0.9476515 ]]\n",
      " 800/2000 [ 40%] ████████████                   ETA: 158s | Loss: 1841.704\n",
      "Inferred cluster means:\n",
      "[[-1.7729297   1.8073863 ]\n",
      " [-0.81431043 -0.58793485]\n",
      " [ 0.6584348   0.94808006]]\n",
      " 850/2000 [ 42%] ████████████                   ETA: 144s | Loss: 1845.025\n",
      "Inferred cluster means:\n",
      "[[-1.7650478  1.819251 ]\n",
      " [-0.840718  -0.5755842]\n",
      " [ 0.6931611  0.973899 ]]\n",
      " 900/2000 [ 45%] █████████████                  ETA: 132s | Loss: 1859.564\n",
      "Inferred cluster means:\n",
      "[[-1.7092354   1.7675469 ]\n",
      " [-0.80365396 -0.6166096 ]\n",
      " [ 0.7092245   0.9291058 ]]\n",
      " 950/2000 [ 47%] ██████████████                 ETA: 120s | Loss: 1866.307\n",
      "Inferred cluster means:\n",
      "[[-1.7773546   1.8433092 ]\n",
      " [-0.8445881  -0.61842215]\n",
      " [ 0.66694033  0.96747565]]\n",
      "1000/2000 [ 50%] ███████████████                ETA: 110s | Loss: 1830.011\n",
      "Inferred cluster means:\n",
      "[[-1.7052261   1.7834332 ]\n",
      " [-0.9222734  -0.6301364 ]\n",
      " [ 0.69797695  0.94761485]]\n",
      "1050/2000 [ 52%] ███████████████                ETA: 101s | Loss: 1807.834\n",
      "Inferred cluster means:\n",
      "[[-1.6618594   1.7607    ]\n",
      " [-0.8593606  -0.53204024]\n",
      " [ 0.78000176  0.9683301 ]]\n",
      "1100/2000 [ 55%] ████████████████               ETA: 92s | Loss: 1886.700 \n",
      "Inferred cluster means:\n",
      "[[-1.6794952   1.7766006 ]\n",
      " [-0.9468708  -0.5737306 ]\n",
      " [ 0.6607118   0.99990904]]\n",
      "1150/2000 [ 57%] █████████████████              ETA: 84s | Loss: 1862.464\n",
      "Inferred cluster means:\n",
      "[[-1.745304    1.7973651 ]\n",
      " [-0.8593416  -0.55079335]\n",
      " [ 0.71574616  0.9542884 ]]\n",
      "1200/2000 [ 60%] ██████████████████             ETA: 77s | Loss: 1900.156\n",
      "Inferred cluster means:\n",
      "[[-1.6946733   1.7712549 ]\n",
      " [-0.8256878  -0.52431935]\n",
      " [ 0.67175615  1.0098991 ]]\n",
      "1250/2000 [ 62%] ██████████████████             ETA: 70s | Loss: 1866.341\n",
      "Inferred cluster means:\n",
      "[[-1.7166789   1.8076687 ]\n",
      " [-0.8228381  -0.5177198 ]\n",
      " [ 0.61369336  0.95180833]]\n",
      "1300/2000 [ 65%] ███████████████████            ETA: 64s | Loss: 1841.290\n",
      "Inferred cluster means:\n",
      "[[-1.6725653   1.7910203 ]\n",
      " [-0.8527768  -0.55389   ]\n",
      " [ 0.63327676  0.97594607]]\n",
      "1350/2000 [ 67%] ████████████████████           ETA: 57s | Loss: 1883.208\n",
      "Inferred cluster means:\n",
      "[[-1.6923959   1.7528512 ]\n",
      " [-0.8861186  -0.54688174]\n",
      " [ 0.69476384  1.0141352 ]]\n",
      "1400/2000 [ 70%] █████████████████████          ETA: 52s | Loss: 1876.429\n",
      "Inferred cluster means:\n",
      "[[-1.7119746  1.7864023]\n",
      " [-0.8960676 -0.6396705]\n",
      " [ 0.675453   0.998318 ]]\n",
      "1450/2000 [ 72%] █████████████████████          ETA: 46s | Loss: 1825.691\n",
      "Inferred cluster means:\n",
      "[[-1.6996146   1.8153735 ]\n",
      " [-0.8456949  -0.63484573]\n",
      " [ 0.6938198   0.9772019 ]]\n",
      "1500/2000 [ 75%] ██████████████████████         ETA: 41s | Loss: 1837.578\n",
      "Inferred cluster means:\n",
      "[[-1.7255816   1.7795873 ]\n",
      " [-0.87278324 -0.56142837]\n",
      " [ 0.6697709   0.9797696 ]]\n",
      "1550/2000 [ 77%] ███████████████████████        ETA: 36s | Loss: 1884.545\n",
      "Inferred cluster means:\n",
      "[[-1.6722075   1.7723426 ]\n",
      " [-0.882245   -0.5837744 ]\n",
      " [ 0.6168138   0.98197573]]\n",
      "1600/2000 [ 80%] ████████████████████████       ETA: 31s | Loss: 1887.972\n",
      "Inferred cluster means:\n",
      "[[-1.7066213  1.7861161]\n",
      " [-0.8895626 -0.5905556]\n",
      " [ 0.6835296  0.9746732]]\n",
      "1650/2000 [ 82%] ████████████████████████       ETA: 27s | Loss: 1865.495\n",
      "Inferred cluster means:\n",
      "[[-1.7071865   1.7855437 ]\n",
      " [-0.86062497 -0.62066793]\n",
      " [ 0.7074193   0.9426923 ]]\n",
      "1700/2000 [ 85%] █████████████████████████      ETA: 23s | Loss: 1811.653\n",
      "Inferred cluster means:\n",
      "[[-1.7133796   1.7711576 ]\n",
      " [-0.87683296 -0.53878695]\n",
      " [ 0.6658207   0.9594087 ]]\n",
      "1750/2000 [ 87%] ██████████████████████████     ETA: 18s | Loss: 1824.348\n",
      "Inferred cluster means:\n",
      "[[-1.6717112  1.7802308]\n",
      " [-0.9027993 -0.6318013]\n",
      " [ 0.7147684  0.9930064]]\n",
      "1800/2000 [ 90%] ███████████████████████████    ETA: 14s | Loss: 1853.466\n",
      "Inferred cluster means:\n",
      "[[-1.6380944   1.7542732 ]\n",
      " [-0.8947311  -0.5840938 ]\n",
      " [ 0.66227394  0.9729196 ]]\n",
      "1850/2000 [ 92%] ███████████████████████████    ETA: 10s | Loss: 1876.781\n",
      "Inferred cluster means:\n",
      "[[-1.6831464   1.7706922 ]\n",
      " [-0.8591693  -0.61229146]\n",
      " [ 0.6806458   0.9970463 ]]\n",
      "1900/2000 [ 95%] ████████████████████████████   ETA: 7s | Loss: 1874.237 \n",
      "Inferred cluster means:\n",
      "[[-1.6712503   1.756662  ]\n",
      " [-0.9163091  -0.60859543]\n",
      " [ 0.66228485  0.9875725 ]]\n",
      "1950/2000 [ 97%] █████████████████████████████  ETA: 3s | Loss: 1835.981\n",
      "Inferred cluster means:\n",
      "[[-1.7303553   1.8109162 ]\n",
      " [-0.86099267 -0.58114123]\n",
      " [ 0.7009731   0.97355413]]\n",
      "2000/2000 [100%] ██████████████████████████████ Elapsed: 138s | Loss: 1875.614\n",
      "\n",
      "Inferred cluster means:\n",
      "[[-1.715718    1.7926618 ]\n",
      " [-0.8431373  -0.59023726]\n",
      " [ 0.68323344  0.9912925 ]]\n"
     ]
    },
    {
     "data": {
      "image/png": "[encoded data removed]",
      "text/plain": [
       "<Figure size 432x288 with 1 Axes>"
      ]
     },
     "metadata": {
      "needs_background": "light"
     },
     "output_type": "display_data"
    }
   ],
   "source": [
    "def do_inference(inference_algo):\n",
    "    inference = inference_algo(*({mu: qmu}, {x: x_train}))\n",
    "    \n",
    "    inference.initialize(n_iter=2000, n_print=50, n_samples=50)\n",
    "    \n",
    "    sess = ed.get_session()\n",
    "    init = tf.global_variables_initializer()\n",
    "    init.run()\n",
    "    \n",
    "    learning_curve = []\n",
    "\n",
    "    for _ in range(inference.n_iter):\n",
    "        info_dict = inference.update()\n",
    "        inference.print_progress(info_dict)\n",
    "        t = info_dict['t']\n",
    "        if t % inference.n_print == 0:\n",
    "            print(\"\\nInferred cluster means:\")\n",
    "            print(sess.run(qmu.loc))\n",
    "        learning_curve.append(info_dict['loss'])\n",
    "    \n",
    "    plt.semilogy(learning_curve)\n",
    "\n",
    "do_inference(ed.KLqp)\n",
    "    "
   ]
  },
  {
   "cell_type": "code",
   "execution_count": null,
   "metadata": {},
   "outputs": [],
   "source": [
    "inference = ed.KLqp({mu: qmu}, data={x: x_train}) # pi:qpi\n",
    "inference.initialize(n_iter=2000, n_print=50, n_samples=50)\n",
    "sess = ed.get_session()\n",
    "init = tf.global_variables_initializer()\n",
    "init.run()"
   ]
  },
  {
   "cell_type": "code",
   "execution_count": null,
   "metadata": {
    "scrolled": false
   },
   "outputs": [],
   "source": [
    "learning_curve = []\n",
    "\n",
    "for _ in range(inference.n_iter):\n",
    "    info_dict = inference.update()\n",
    "    inference.print_progress(info_dict)\n",
    "    t = info_dict['t']\n",
    "    if t % inference.n_print == 0:\n",
    "        print(\"\\nInferred cluster means:\")\n",
    "        print(sess.run(qmu.loc))\n",
    "    learning_curve.append(info_dict['loss'])\n",
    "    \n",
    "plt.semilogy(learning_curve)"
   ]
  },
  {
   "cell_type": "markdown",
   "metadata": {},
   "source": [
    "# Use RB-BBVI"
   ]
  },
  {
   "cell_type": "code",
   "execution_count": null,
   "metadata": {},
   "outputs": [],
   "source": [
    "inference2 = ed.ScoreRBKLqp({mu: qmu}, data={x: x_train}) # pi:qpi\n",
    "inference2.initialize(n_iter=2000, n_print=50, n_samples=50)\n",
    "sess = ed.get_session()\n",
    "init = tf.global_variables_initializer()\n",
    "init.run()"
   ]
  },
  {
   "cell_type": "code",
   "execution_count": null,
   "metadata": {},
   "outputs": [],
   "source": [
    "learning_curve2 = []\n",
    "\n",
    "for _ in range(inference2.n_iter):\n",
    "    info_dict = inference2.update()\n",
    "    inference2.print_progress(info_dict)\n",
    "    t = info_dict['t']\n",
    "    if t % inference2.n_print == 0:\n",
    "        print(\"\\nInferred cluster means:\")\n",
    "        print(sess.run(qmu.loc))\n",
    "    learning_curve2.append(info_dict['loss'])\n",
    "    \n",
    "plt.semilogy(learning_curve2)"
   ]
  },
  {
   "cell_type": "markdown",
   "metadata": {},
   "source": [
    "# Use reparametrization-BBVI (only for mu)"
   ]
  },
  {
   "cell_type": "code",
   "execution_count": null,
   "metadata": {},
   "outputs": [],
   "source": [
    "#ReparameterizationKLqp\n",
    "inference3 = ed.ReparameterizationKLqp({mu: qmu}, data={x: x_train}) # pi:qpi\n",
    "inference3.initialize(n_iter=2000, n_print=50, n_samples=50)\n",
    "sess = ed.get_session()\n",
    "init = tf.global_variables_initializer()\n",
    "init.run()"
   ]
  },
  {
   "cell_type": "code",
   "execution_count": null,
   "metadata": {},
   "outputs": [],
   "source": [
    "learning_curve3 = []\n",
    "\n",
    "for _ in range(inference3.n_iter):\n",
    "    info_dict = inference3.update()\n",
    "    inference3.print_progress(info_dict)\n",
    "    t = info_dict['t']\n",
    "    if t % inference3.n_print == 0:\n",
    "        print(\"\\nInferred cluster means:\")\n",
    "        print(sess.run(qmu.loc))\n",
    "    learning_curve3.append(info_dict['loss'])\n",
    "    \n",
    "plt.semilogy(learning_curve3)"
   ]
  },
  {
   "cell_type": "markdown",
   "metadata": {},
   "source": [
    "# Use reparametrization-BBVI for mu and sigma"
   ]
  },
  {
   "cell_type": "code",
   "execution_count": null,
   "metadata": {},
   "outputs": [],
   "source": [
    "#ReparameterizationKLqp\n",
    "inference4 = ed.ReparameterizationKLqp({mu: qmu, sigmasq: qsigma_sq}, data={x: x_train}) # pi:qpi\n",
    "inference4.initialize(n_iter=2000, n_print=50, n_samples=50)\n",
    "sess = ed.get_session()\n",
    "init = tf.global_variables_initializer()\n",
    "init.run()"
   ]
  },
  {
   "cell_type": "code",
   "execution_count": null,
   "metadata": {},
   "outputs": [],
   "source": [
    "learning_curve4 = []\n",
    "\n",
    "for _ in range(inference4.n_iter):\n",
    "    info_dict = inference4.update()\n",
    "    inference4.print_progress(info_dict)\n",
    "    t = info_dict['t']\n",
    "    if t % inference3.n_print == 0:\n",
    "        print(\"\\nInferred cluster means:\")\n",
    "        print(sess.run(qmu.loc))\n",
    "    learning_curve4.append(info_dict['loss'])\n",
    "    \n",
    "plt.semilogy(learning_curve4)"
   ]
  },
  {
   "cell_type": "markdown",
   "metadata": {},
   "source": [
    "# Criticism"
   ]
  },
  {
   "cell_type": "code",
   "execution_count": null,
   "metadata": {},
   "outputs": [],
   "source": [
    "# Calculate likelihood for each data point and cluster assignment,\n",
    "# averaged over many posterior samples. ``x_post`` has shape (N, 100, K, D).\n",
    "mu_sample = qmu.sample(100)\n",
    "sigmasq_sample = qsigmasq.sample(100)\n",
    "x_post = Normal(loc=tf.ones([N, 1, 1, 1]) * mu_sample,\n",
    "                scale=tf.ones([N, 1, 1, 1]) * tf.sqrt(sigmasq_sample))\n",
    "x_broadcasted = tf.tile(tf.reshape(x_train, [N, 1, 1, D]), [1, 100, K, 1])\n",
    "\n",
    "# Sum over latent dimension, then average over posterior samples.\n",
    "# ``log_liks`` ends up with shape (N, K).\n",
    "log_liks = x_post.log_prob(x_broadcasted)\n",
    "log_liks = tf.reduce_sum(log_liks, 3)\n",
    "log_liks = tf.reduce_mean(log_liks, 1)"
   ]
  },
  {
   "cell_type": "code",
   "execution_count": null,
   "metadata": {},
   "outputs": [],
   "source": [
    "# Choose the cluster with the highest likelihood for each data point.\n",
    "clusters = tf.argmax(log_liks, 1).eval()"
   ]
  },
  {
   "cell_type": "code",
   "execution_count": null,
   "metadata": {},
   "outputs": [],
   "source": [
    "plt.scatter(x_train[:, 0], x_train[:, 1], c=clusters, cmap=cm.bwr)\n",
    "plt.axis([-5, 5, -3, 5])\n",
    "plt.title(\"Predicted cluster assignments\")\n",
    "plt.show()"
   ]
  },
  {
   "cell_type": "markdown",
   "metadata": {},
   "source": [
    "# Let's infernece all latent variables"
   ]
  },
  {
   "cell_type": "code",
   "execution_count": 7,
   "metadata": {},
   "outputs": [],
   "source": [
    "#qpi_alpha = tf.nn.softplus(tf.Variable(tf.ones(K)))\n",
    "qpi = Dirichlet([1/3, 1/3, 1/3])\n",
    "\n",
    "qmu = Normal(\n",
    "    loc=tf.Variable(tf.random_normal([K, D])),\n",
    "    scale=tf.nn.softplus(tf.Variable(tf.ones([K, D]))))\n",
    "\n",
    "qsigmasq = InverseGammaWithSoftplusConcentrationRate(tf.Variable(tf.random_normal([K, D])),\n",
    "                                                     tf.Variable(tf.random_normal([K, D])))\n",
    "\n",
    "# should not inference z since it is summed out in the Mixture model.\n",
    "# could inference z in ParamsMixture"
   ]
  },
  {
   "cell_type": "code",
   "execution_count": null,
   "metadata": {},
   "outputs": [],
   "source": [
    "inference5 = ed.KLqp({mu: qmu, sigmasq: qsigmasq}, data={x: x_train}) # pi:qpi\n",
    "inference5.initialize(n_iter=2000, n_print=50, n_samples=10)\n",
    "sess = ed.get_session()\n",
    "init = tf.global_variables_initializer()\n",
    "init.run()"
   ]
  },
  {
   "cell_type": "code",
   "execution_count": null,
   "metadata": {},
   "outputs": [],
   "source": [
    "learning_curve5 = []\n",
    "\n",
    "for _ in range(inference5.n_iter):\n",
    "    info_dict = inference5.update()\n",
    "    inference5.print_progress(info_dict)\n",
    "    t = info_dict['t']\n",
    "    if t % inference5.n_print == 0:\n",
    "        print(\"\\nInferred cluster means:\")\n",
    "        print(sess.run(qmu.loc))\n",
    "    learning_curve5.append(info_dict['loss'])\n",
    "    \n",
    "plt.semilogy(learning_curve5)"
   ]
  },
  {
   "cell_type": "code",
   "execution_count": 8,
   "metadata": {},
   "outputs": [
    {
     "name": "stderr",
     "output_type": "stream",
     "text": [
      "/Users/leah/Columbia/courses/ml_prob_programming/ENV/lib/python3.6/site-packages/edward/util/random_variables.py:52: FutureWarning: Conversion of the second argument of issubdtype from `float` to `np.floating` is deprecated. In future, it will be treated as `np.float64 == np.dtype(float).type`.\n",
      "  not np.issubdtype(value.dtype, np.float) and \\\n"
     ]
    }
   ],
   "source": [
    "inference6 = ed.KLqp({pi: qpi, mu: qmu}, data={x: x_train}) # pi:qpi\n",
    "inference6.initialize(n_iter=2000, n_print=50, n_samples=100)\n",
    "sess = ed.get_session()\n",
    "init = tf.global_variables_initializer()\n",
    "init.run()"
   ]
  },
  {
   "cell_type": "code",
   "execution_count": 9,
   "metadata": {},
   "outputs": [
    {
     "name": "stdout",
     "output_type": "stream",
     "text": [
      "  50/2000 [  2%]                                ETA: 4335s | Loss: 3073.022  \n",
      "Inferred cluster means:\n",
      "[[ 1.231583    1.9405639 ]\n",
      " [-1.1726229  -0.03713531]\n",
      " [ 2.958682    0.02610952]]\n",
      " 100/2000 [  5%] █                              ETA: 2226s | Loss: 7125.596\n",
      "Inferred cluster means:\n",
      "[[ 0.8931207   2.2539053 ]\n",
      " [-0.75723016 -0.0476637 ]\n",
      " [ 2.4349089   0.8882948 ]]\n",
      " 150/2000 [  7%] ██                             ETA: 1446s | Loss: 2621.638\n",
      "Inferred cluster means:\n",
      "[[ 0.22161335  2.0251443 ]\n",
      " [-1.8577642  -0.1092444 ]\n",
      " [ 2.6593647   1.5183487 ]]\n",
      " 200/2000 [ 10%] ███                            ETA: 1056s | Loss: 3518.862\n",
      "Inferred cluster means:\n",
      "[[ 1.0707287  2.4522274]\n",
      " [-2.1655948  0.3254221]\n",
      " [ 2.3226242  1.2273598]]\n",
      " 250/2000 [ 12%] ███                            ETA: 822s | Loss: 2890.240 \n",
      "Inferred cluster means:\n",
      "[[ 0.8025345   2.2618382 ]\n",
      " [-0.94254744 -0.11583593]\n",
      " [ 2.255344    1.4947284 ]]\n",
      " 300/2000 [ 15%] ████                           ETA: 666s | Loss: 2329.308\n",
      "Inferred cluster means:\n",
      "[[ 0.8639837   1.0952251 ]\n",
      " [-0.50021595  0.14732978]\n",
      " [ 2.549508    1.2179317 ]]\n",
      " 350/2000 [ 17%] █████                          ETA: 554s | Loss: 2887.621\n",
      "Inferred cluster means:\n",
      "[[ 1.0259923  -0.16865335]\n",
      " [-0.17700645  0.6300334 ]\n",
      " [ 2.7673283   2.3975968 ]]\n",
      " 400/2000 [ 20%] ██████                         ETA: 471s | Loss: 2005.582\n",
      "Inferred cluster means:\n",
      "[[ 1.3196265  -1.0817983 ]\n",
      " [ 0.32468802  0.52719164]\n",
      " [ 2.5053432   1.602777  ]]\n",
      " 450/2000 [ 22%] ██████                         ETA: 405s | Loss: 2201.758\n",
      "Inferred cluster means:\n",
      "[[ 1.2596796e+00 -6.2967652e-01]\n",
      " [-3.6313664e-04  6.4912331e-01]\n",
      " [ 2.1313717e+00  1.8119926e+00]]\n",
      " 500/2000 [ 25%] ███████                        ETA: 353s | Loss: 2241.807\n",
      "Inferred cluster means:\n",
      "[[ 1.0897789  -0.40236393]\n",
      " [-0.30446044  0.65975255]\n",
      " [ 1.7743101   2.0831525 ]]\n",
      " 550/2000 [ 27%] ████████                       ETA: 311s | Loss: 2120.292\n",
      "Inferred cluster means:\n",
      "[[ 0.9050164  -0.2567008 ]\n",
      " [-0.03124842  0.35082707]\n",
      " [ 1.3398519   2.1045785 ]]\n",
      " 600/2000 [ 30%] █████████                      ETA: 275s | Loss: 2307.668\n",
      "Inferred cluster means:\n",
      "[[ 0.93393236 -0.3964807 ]\n",
      " [ 0.1281095   0.35611358]\n",
      " [ 0.6318087   2.1874065 ]]\n",
      " 650/2000 [ 32%] █████████                      ETA: 245s | Loss: 4023.868\n",
      "Inferred cluster means:\n",
      "[[ 1.3066069  -0.11122   ]\n",
      " [ 0.28391236  0.3664738 ]\n",
      " [ 0.7454286   2.2364886 ]]\n",
      " 700/2000 [ 35%] ██████████                     ETA: 219s | Loss: 2541.657\n",
      "Inferred cluster means:\n",
      "[[1.567958   0.0968665 ]\n",
      " [0.2676797  0.18507735]\n",
      " [0.61522627 2.430215  ]]\n",
      " 750/2000 [ 37%] ███████████                    ETA: 197s | Loss: 3031.986\n",
      "Inferred cluster means:\n",
      "[[ 1.8833417  -0.23900807]\n",
      " [ 0.7444639   0.3706464 ]\n",
      " [ 0.7428039   2.648794  ]]\n",
      " 800/2000 [ 40%] ████████████                   ETA: 177s | Loss: 2770.443\n",
      "Inferred cluster means:\n",
      "[[ 1.661474   -0.01854915]\n",
      " [ 0.05440887  0.8067882 ]\n",
      " [ 0.6904976   2.8279219 ]]\n",
      " 850/2000 [ 42%] ████████████                   ETA: 160s | Loss: 1992.093\n",
      "Inferred cluster means:\n",
      "[[ 0.8229295  -0.02117371]\n",
      " [ 0.22857262  1.0777992 ]\n",
      " [ 0.5766384   2.4690053 ]]\n",
      " 900/2000 [ 45%] █████████████                  ETA: 145s | Loss: 2220.382\n",
      "Inferred cluster means:\n",
      "[[ 0.568747    0.02133167]\n",
      " [-0.48569205  1.0550863 ]\n",
      " [ 0.27583483  2.742556  ]]\n",
      " 950/2000 [ 47%] ██████████████                 ETA: 131s | Loss: 1779.914\n",
      "Inferred cluster means:\n",
      "[[ 0.41523117  0.21528207]\n",
      " [-0.38336775  0.61899656]\n",
      " [ 0.26716384  2.262863  ]]\n",
      "1000/2000 [ 50%] ███████████████                ETA: 118s | Loss: 2014.752\n",
      "Inferred cluster means:\n",
      "[[ 0.60089624  0.18267448]\n",
      " [-0.49417847  0.75803775]\n",
      " [ 0.28946146  1.9658705 ]]\n",
      "1050/2000 [ 52%] ███████████████                ETA: 107s | Loss: 4375.548\n",
      "Inferred cluster means:\n",
      "[[ 0.58173984  0.01440899]\n",
      " [-0.8787771   0.9749463 ]\n",
      " [ 0.00610149  2.0708683 ]]\n",
      "1100/2000 [ 55%] ████████████████               ETA: 97s | Loss: 2032.141 \n",
      "Inferred cluster means:\n",
      "[[ 0.43932173  0.19520952]\n",
      " [-0.9922349   1.2150913 ]\n",
      " [-0.29882145  2.2239728 ]]\n",
      "1150/2000 [ 57%] █████████████████              ETA: 88s | Loss: 2149.729\n",
      "Inferred cluster means:\n",
      "[[ 0.11220258  0.26156572]\n",
      " [-0.9599917   1.2327844 ]\n",
      " [-0.24106339  2.165918  ]]\n",
      "1200/2000 [ 60%] ██████████████████             ETA: 79s | Loss: 2518.093\n",
      "Inferred cluster means:\n",
      "[[ 0.27614307  0.27851987]\n",
      " [-1.3853902   1.2728978 ]\n",
      " [-0.05295686  2.0082893 ]]\n",
      "1250/2000 [ 62%] ██████████████████             ETA: 71s | Loss: 2583.583\n",
      "Inferred cluster means:\n",
      "[[ 0.3727829   0.48743013]\n",
      " [-1.6802742   1.420505  ]\n",
      " [ 0.4846118   2.2342439 ]]\n",
      "1300/2000 [ 65%] ███████████████████            ETA: 64s | Loss: 2155.465\n",
      "Inferred cluster means:\n",
      "[[ 0.57391435  0.593374  ]\n",
      " [-1.6976869   1.1232035 ]\n",
      " [ 0.878494    2.0745456 ]]\n",
      "1350/2000 [ 67%] ████████████████████           ETA: 57s | Loss: 2101.582\n",
      "Inferred cluster means:\n",
      "[[ 0.45658347  0.42463672]\n",
      " [-1.557304    1.2489526 ]\n",
      " [ 0.56645936  1.8639697 ]]\n",
      "1400/2000 [ 70%] █████████████████████          ETA: 51s | Loss: 2224.891\n",
      "Inferred cluster means:\n",
      "[[ 0.38248622  0.4157693 ]\n",
      " [-1.5015041   1.2485181 ]\n",
      " [ 0.5158509   1.8945369 ]]\n",
      "1450/2000 [ 72%] █████████████████████          ETA: 45s | Loss: 2134.150\n",
      "Inferred cluster means:\n",
      "[[ 0.3784231   0.09443082]\n",
      " [-1.5538005   1.5422105 ]\n",
      " [ 0.45813102  1.8294338 ]]\n",
      "1500/2000 [ 75%] ██████████████████████         ETA: 40s | Loss: 2904.483\n",
      "Inferred cluster means:\n",
      "[[ 0.14833035  0.04038832]\n",
      " [-1.8249943   1.3303703 ]\n",
      " [ 0.621189    1.863533  ]]\n",
      "1550/2000 [ 77%] ███████████████████████        ETA: 34s | Loss: 2105.520\n",
      "Inferred cluster means:\n",
      "[[ 0.4009046   0.09695635]\n",
      " [-1.7284706   1.2292418 ]\n",
      " [ 0.40269804  1.9464774 ]]\n",
      "1600/2000 [ 80%] ████████████████████████       ETA: 30s | Loss: 2633.582\n",
      "Inferred cluster means:\n",
      "[[ 0.6541628   0.13321058]\n",
      " [-1.5777628   1.1698843 ]\n",
      " [ 0.29694536  1.7511567 ]]\n",
      "1650/2000 [ 82%] ████████████████████████       ETA: 25s | Loss: 3047.830\n",
      "Inferred cluster means:\n",
      "[[ 0.45287588  0.08981019]\n",
      " [-1.5725204   1.3502122 ]\n",
      " [ 0.21166007  1.9879974 ]]\n",
      "1700/2000 [ 85%] █████████████████████████      ETA: 21s | Loss: 2072.860\n",
      "Inferred cluster means:\n",
      "[[ 0.39329788 -0.03999852]\n",
      " [-1.2431993   1.3997474 ]\n",
      " [ 0.15171629  1.7352844 ]]\n",
      "1750/2000 [ 87%] ██████████████████████████     ETA: 17s | Loss: 1809.086\n",
      "Inferred cluster means:\n",
      "[[ 0.33335012  0.07481062]\n",
      " [-1.3539023   1.4416928 ]\n",
      " [ 0.22340652  1.9183713 ]]\n",
      "1800/2000 [ 90%] ███████████████████████████    ETA: 13s | Loss: 1949.851\n",
      "Inferred cluster means:\n",
      "[[ 0.3109329   0.12202933]\n",
      " [-1.4971598   1.5310454 ]\n",
      " [ 0.25000098  2.0309243 ]]\n",
      "1850/2000 [ 92%] ███████████████████████████    ETA: 9s | Loss: 3390.654 \n",
      "Inferred cluster means:\n",
      "[[ 0.3842993   0.24993174]\n",
      " [-1.4208561   1.5586717 ]\n",
      " [ 0.03197535  2.0149693 ]]\n",
      "1900/2000 [ 95%] ████████████████████████████   ETA: 6s | Loss: 3135.642\n",
      "Inferred cluster means:\n",
      "[[ 0.47164553  0.19328618]\n",
      " [-1.4185811   1.4598601 ]\n",
      " [ 0.21785839  2.0708504 ]]\n",
      "1950/2000 [ 97%] █████████████████████████████  ETA: 3s | Loss: 1917.322\n",
      "Inferred cluster means:\n",
      "[[ 0.43924916  0.10432936]\n",
      " [-1.3471718   1.4658864 ]\n",
      " [ 0.3073282   2.186113  ]]\n",
      "2000/2000 [100%] ██████████████████████████████ Elapsed: 121s | Loss: 2031.675\n",
      "\n",
      "Inferred cluster means:\n",
      "[[ 0.5474206 -0.0060215]\n",
      " [-1.3248988  1.5203643]\n",
      " [ 0.4524687  2.1528802]]\n"
     ]
    },
    {
     "data": {
      "text/plain": [
       "[<matplotlib.lines.Line2D at 0x1603fb908>]"
      ]
     },
     "execution_count": 9,
     "metadata": {},
     "output_type": "execute_result"
    },
    {
     "data": {
      "image/png": "[encoded data removed]",
      "text/plain": [
       "<Figure size 432x288 with 1 Axes>"
      ]
     },
     "metadata": {
      "needs_background": "light"
     },
     "output_type": "display_data"
    }
   ],
   "source": [
    "learning_curve6 = []\n",
    "\n",
    "for _ in range(inference6.n_iter):\n",
    "    info_dict = inference6.update()\n",
    "    inference6.print_progress(info_dict)\n",
    "    t = info_dict['t']\n",
    "    if t % inference6.n_print == 0:\n",
    "        print(\"\\nInferred cluster means:\")\n",
    "        print(sess.run(qmu.loc))\n",
    "    learning_curve6.append(info_dict['loss'])\n",
    "    \n",
    "plt.semilogy(learning_curve6)"
   ]
  },
  {
   "cell_type": "code",
   "execution_count": null,
   "metadata": {},
   "outputs": [],
   "source": []
  },
  {
   "cell_type": "code",
   "execution_count": 15,
   "metadata": {},
   "outputs": [
    {
     "data": {
      "text/plain": [
       "array([0.33333334, 0.33333334, 0.33333334], dtype=float32)"
      ]
     },
     "execution_count": 15,
     "metadata": {},
     "output_type": "execute_result"
    }
   ],
   "source": [
    "qpi.concentration.eval()"
   ]
  },
  {
   "cell_type": "code",
   "execution_count": null,
   "metadata": {},
   "outputs": [],
   "source": [
    "inference7 = ed.ReparameterizationKLqp({mu: qmu, sigmasq: qsigmasq}, data={x: x_train}) # pi:qpi\n",
    "inference7.initialize(n_iter=2000, n_print=50, n_samples=10)\n",
    "sess = ed.get_session()\n",
    "init = tf.global_variables_initializer()\n",
    "init.run()"
   ]
  },
  {
   "cell_type": "markdown",
   "metadata": {},
   "source": [
    "# Inference"
   ]
  },
  {
   "cell_type": "code",
   "execution_count": null,
   "metadata": {},
   "outputs": [],
   "source": [
    "# Calculate likelihood for each data point and cluster assignment,\n",
    "# averaged over many posterior samples. ``x_post`` has shape (N, 100, K, D).\n",
    "mu_sample = qmu.sample(100)\n",
    "sigmasq_sample = qsigmasq.sample(100)\n",
    "x_post = Normal(loc=tf.ones([N, 1, 1, 1]) * mu_sample,\n",
    "                scale=tf.ones([N, 1, 1, 1]) * tf.sqrt(sigmasq_sample))\n",
    "x_broadcasted = tf.tile(tf.reshape(x_train, [N, 1, 1, D]), [1, 100, K, 1])\n",
    "\n",
    "# Sum over latent dimension, then average over posterior samples.\n",
    "# ``log_liks`` ends up with shape (N, K).\n",
    "log_liks = x_post.log_prob(x_broadcasted)\n",
    "log_liks = tf.reduce_sum(log_liks, 3)\n",
    "log_liks = tf.reduce_mean(log_liks, 1)"
   ]
  },
  {
   "cell_type": "code",
   "execution_count": 17,
   "metadata": {},
   "outputs": [
    {
     "name": "stdout",
     "output_type": "stream",
     "text": [
      "param 1 hello param 2 manuel\n"
     ]
    }
   ],
   "source": [
    "def xx(a,b):\n",
    "     print(\"param 1 {} param 2 {}\".format(a,b))\n",
    "\n",
    "t = (\"hello\",\"manuel\")\n",
    "def yy(z):\n",
    "     z(*(\"hello\",\"manuel\"))\n",
    "        \n",
    "yy(xx)"
   ]
  },
  {
   "cell_type": "code",
   "execution_count": null,
   "metadata": {},
   "outputs": [],
   "source": []
  }
 ],
 "metadata": {
  "kernelspec": {
   "display_name": "Python 3",
   "language": "python",
   "name": "python3"
  },
  "language_info": {
   "codemirror_mode": {
    "name": "ipython",
    "version": 3
   },
   "file_extension": ".py",
   "mimetype": "text/x-python",
   "name": "python",
   "nbconvert_exporter": "python",
   "pygments_lexer": "ipython3",
   "version": "3.6.0"
  }
 },
 "nbformat": 4,
 "nbformat_minor": 2
}
