{
 "cells": [
  {
   "cell_type": "markdown",
   "metadata": {},
   "source": [
    "Note: this notebook is based on pymc3's official tutorial.\n",
    "\n",
    "reference: https://docs.pymc.io/notebooks/gaussian-mixture-model-advi.html"
   ]
  },
  {
   "cell_type": "code",
   "execution_count": 3,
   "metadata": {},
   "outputs": [
    {
     "name": "stdout",
     "output_type": "stream",
     "text": [
      "env: THEANO_FLAGS=device=cpu,floatX=float32\n"
     ]
    }
   ],
   "source": [
    "%matplotlib inline\n",
    "%env THEANO_FLAGS=device=cpu,floatX=float32\n",
    "import theano\n",
    "\n",
    "import pymc3 as pm\n",
    "from pymc3 import Normal, Metropolis, sample, MvNormal, Dirichlet, \\\n",
    "    DensityDist, find_MAP, NUTS, Slice\n",
    "import theano.tensor as tt\n",
    "from theano.tensor.nlinalg import det\n",
    "import numpy as np\n",
    "import matplotlib.pyplot as plt\n",
    "import seaborn as sns\n",
    "\n",
    "from pymc3.math import logsumexp\n"
   ]
  },
  {
   "cell_type": "code",
   "execution_count": 197,
   "metadata": {},
   "outputs": [
    {
     "data": {
      "text/plain": [
       "<matplotlib.collections.PathCollection at 0x10d98deb8>"
      ]
     },
     "execution_count": 197,
     "metadata": {},
     "output_type": "execute_result"
    },
    {
     "data": {
      "image/png": "[encoded data removed]",
      "text/plain": [
       "<Figure size 360x360 with 1 Axes>"
      ]
     },
     "metadata": {
      "needs_background": "light"
     },
     "output_type": "display_data"
    }
   ],
   "source": [
    "n_samples = 100\n",
    "rng = np.random.RandomState(123)\n",
    "ms = np.array([[-1, -1.5], [1, 1]]) #mean\n",
    "ps = np.array([0.2, 0.8]) # pi\n",
    "\n",
    "zs = np.array([rng.multinomial(1, ps) for _ in range(n_samples)]).T\n",
    "xs = [z[:, np.newaxis] * rng.multivariate_normal(m, np.eye(2), size=n_samples)\n",
    "      for z, m in zip(zs, ms)]\n",
    "data = np.sum(np.dstack(xs), axis=2)\n",
    "\n",
    "plt.figure(figsize=(5, 5))\n",
    "plt.scatter(data[:, 0], data[:, 1], c='g', alpha=0.5)\n",
    "plt.scatter(ms[0, 0], ms[0, 1], c='r', s=100)\n",
    "plt.scatter(ms[1, 0], ms[1, 1], c='b', s=100)"
   ]
  },
  {
   "cell_type": "markdown",
   "metadata": {},
   "source": [
    "## Define log_likelihood function, and model"
   ]
  },
  {
   "cell_type": "code",
   "execution_count": 198,
   "metadata": {},
   "outputs": [],
   "source": [
    "# Log likelihood of normal distribution\n",
    "def logp_normal(mu, tau, value):\n",
    "    # log probability of individual samples\n",
    "    k = tau.shape[0]\n",
    "    delta = lambda mu: value - mu\n",
    "    return (-1 / 2.) * (k * tt.log(2 * np.pi) + tt.log(1./det(tau)) +\n",
    "                         (delta(mu).dot(tau) * delta(mu)).sum(axis=1))\n",
    "\n",
    "# Log likelihood of Gaussian mixture distribution\n",
    "def logp_gmix(mus, pi, tau):\n",
    "    def logp_(value):\n",
    "        logps = [tt.log(pi[i]) + logp_normal(mu, tau, value)\n",
    "                 for i, mu in enumerate(mus)]\n",
    "\n",
    "        return tt.sum(logsumexp(tt.stacklists(logps)[:, :n_samples], axis=0))\n",
    "\n",
    "    return logp_\n",
    "\n",
    "# create a GMM\n",
    "with pm.Model() as model:\n",
    "    mus = [MvNormal('mu_%d' % i,\n",
    "                    mu=pm.floatX(np.zeros(2)),\n",
    "                    tau=pm.floatX(0.1 * np.eye(2)),\n",
    "                    shape=(2,))\n",
    "           for i in range(2)]\n",
    "    pi = Dirichlet('pi', a=pm.floatX(0.1 * np.ones(2)), shape=(2,))\n",
    "    xs = DensityDist('x', logp_gmix(mus, pi, np.eye(2)), observed=data)\n",
    "    "
   ]
  },
  {
   "cell_type": "code",
   "execution_count": 199,
   "metadata": {},
   "outputs": [
    {
     "data": {
      "text/plain": [
       "[pi]"
      ]
     },
     "execution_count": 199,
     "metadata": {},
     "output_type": "execute_result"
    }
   ],
   "source": [
    "model.deterministics"
   ]
  },
  {
   "cell_type": "code",
   "execution_count": 200,
   "metadata": {},
   "outputs": [
    {
     "data": {
      "text/plain": [
       "pymc3.model.FreeRV"
      ]
     },
     "execution_count": 200,
     "metadata": {},
     "output_type": "execute_result"
    }
   ],
   "source": [
    "type(model.basic_RVs[2])"
   ]
  },
  {
   "cell_type": "markdown",
   "metadata": {},
   "source": [
    "For comparison of ADVI, run MCMC"
   ]
  },
  {
   "cell_type": "code",
   "execution_count": 201,
   "metadata": {},
   "outputs": [
    {
     "name": "stderr",
     "output_type": "stream",
     "text": [
      "logp = -384.33, ||grad|| = 62.173: 100%|██████████| 4/4 [00:00<00:00, 614.26it/s]\n",
      "Multiprocess sampling (2 chains in 2 jobs)\n",
      "CompoundStep\n",
      ">Metropolis: [pi]\n",
      ">Metropolis: [mu_1]\n",
      ">Metropolis: [mu_0]\n",
      "Sampling 2 chains: 100%|██████████| 3000/3000 [00:01<00:00, 1804.01draws/s]\n",
      "The estimated number of effective samples is smaller than 200 for some parameters.\n"
     ]
    }
   ],
   "source": [
    "with model:\n",
    "    start = find_MAP()\n",
    "    step = Metropolis()\n",
    "    trace = sample(1000, step, start=start)"
   ]
  },
  {
   "cell_type": "code",
   "execution_count": 202,
   "metadata": {},
   "outputs": [
    {
     "data": {
      "text/plain": [
       "(-6, 6)"
      ]
     },
     "execution_count": 202,
     "metadata": {},
     "output_type": "execute_result"
    },
    {
     "data": {
      "image/png": "[encoded data removed]",
      "text/plain": [
       "<Figure size 360x360 with 1 Axes>"
      ]
     },
     "metadata": {
      "needs_background": "light"
     },
     "output_type": "display_data"
    }
   ],
   "source": [
    "plt.figure(figsize=(5, 5))\n",
    "plt.scatter(data[:, 0], data[:, 1], alpha=0.5, c='g')\n",
    "mu_0, mu_1 = trace['mu_0'], trace['mu_1']\n",
    "plt.scatter(mu_0[-500:, 0], mu_0[-500:, 1], c=\"r\", s=10)\n",
    "plt.scatter(mu_1[-500:, 0], mu_1[-500:, 1], c=\"b\", s=10)\n",
    "plt.xlim(-6, 6)\n",
    "plt.ylim(-6, 6)"
   ]
  },
  {
   "cell_type": "code",
   "execution_count": 203,
   "metadata": {},
   "outputs": [
    {
     "data": {
      "text/plain": [
       "<matplotlib.axes._subplots.AxesSubplot at 0x10d6fc240>"
      ]
     },
     "execution_count": 203,
     "metadata": {},
     "output_type": "execute_result"
    },
    {
     "data": {
      "image/png": "[encoded data removed]",
      "text/plain": [
       "<Figure size 432x288 with 1 Axes>"
      ]
     },
     "metadata": {
      "needs_background": "light"
     },
     "output_type": "display_data"
    }
   ],
   "source": [
    "sns.barplot([1, 2], np.mean(trace['pi'][-5000:], axis=0),\n",
    "            palette=['red', 'blue'])"
   ]
  },
  {
   "cell_type": "markdown",
   "metadata": {},
   "source": [
    "Use ADVI"
   ]
  },
  {
   "cell_type": "code",
   "execution_count": 204,
   "metadata": {},
   "outputs": [
    {
     "name": "stderr",
     "output_type": "stream",
     "text": [
      "Average Loss = 323.92: 100%|██████████| 4500/4500 [00:04<00:00, 925.66it/s] \n",
      "Finished [100%]: Average Loss = 323.92\n"
     ]
    },
    {
     "name": "stdout",
     "output_type": "stream",
     "text": [
      "CPU times: user 6.72 s, sys: 1.12 s, total: 7.84 s\n",
      "Wall time: 7.57 s\n"
     ]
    }
   ],
   "source": [
    "with pm.Model() as model:\n",
    "    mus = [MvNormal('mu_%d' % i, mu=pm.floatX(np.zeros(2)), tau=pm.floatX(0.1 * np.eye(2)), shape=(2,))\n",
    "           for i in range(2)]\n",
    "    pi = Dirichlet('pi', a=pm.floatX(0.1 * np.ones(2)), shape=(2,))\n",
    "    xs = DensityDist('x', logp_gmix(mus, pi, np.eye(2)), observed=data)\n",
    "\n",
    "with model:\n",
    "    %time approx = pm.fit(n=4500, obj_optimizer=pm.adagrad(learning_rate=1e-1))\n",
    "\n",
    "means = approx.bij.rmap(approx.mean.eval())\n",
    "cov = approx.cov.eval()\n",
    "sds = approx.bij.rmap(np.diag(cov)**.5)"
   ]
  },
  {
   "cell_type": "code",
   "execution_count": 207,
   "metadata": {},
   "outputs": [],
   "source": [
    "from copy import deepcopy\n",
    "\n",
    "mu_0, sd_0 = means['mu_0'], sds['mu_0']\n",
    "mu_1, sd_1 = means['mu_1'], sds['mu_1']\n",
    "\n",
    "def logp_normal_np(mu, tau, value):\n",
    "    # log probability of individual samples\n",
    "    k = tau.shape[0]\n",
    "    delta = lambda mu: value - mu\n",
    "    return (-1 / 2.) * (k * np.log(2 * np.pi) + np.log(1./np.linalg.det(tau)) +\n",
    "                         (delta(mu).dot(tau) * delta(mu)).sum(axis=1))\n",
    "\n",
    "def threshold(zz):\n",
    "    zz_ = deepcopy(zz)\n",
    "    zz_[zz < np.max(zz) * 1e-2] = None\n",
    "    \n",
    "    return zz_\n",
    "\n",
    "def plot_logp_normal(ax, mu, sd, cmap):\n",
    "    f = lambda value: np.exp(logp_normal_np(mu, np.diag(1 / sd**2), value))\n",
    "    g = lambda mu, sd: np.arange(mu - 3, mu + 3, .1)\n",
    "    xx, yy = np.meshgrid(g(mu[0], sd[0]), g(mu[1], sd[1]))\n",
    "    zz = f(np.vstack((xx.reshape(-1), yy.reshape(-1))).T).reshape(xx.shape)\n",
    "    ax.contourf(xx, yy, threshold(zz), cmap=cmap, alpha=0.9)"
   ]
  },
  {
   "cell_type": "code",
   "execution_count": 208,
   "metadata": {},
   "outputs": [
    {
     "data": {
      "text/plain": [
       "(-6, 6)"
      ]
     },
     "execution_count": 208,
     "metadata": {},
     "output_type": "execute_result"
    },
    {
     "data": {
      "image/png": "[encoded data removed]",
      "text/plain": [
       "<Figure size 360x360 with 1 Axes>"
      ]
     },
     "metadata": {
      "needs_background": "light"
     },
     "output_type": "display_data"
    }
   ],
   "source": [
    "fig, ax = plt.subplots(figsize=(5, 5))\n",
    "plt.scatter(data[:, 0], data[:, 1], alpha=0.5, c='g')\n",
    "plot_logp_normal(ax, mu_0, sd_0, cmap='Reds')\n",
    "plot_logp_normal(ax, mu_1, sd_1, cmap='Blues')\n",
    "plt.xlim(-6, 6)\n",
    "plt.ylim(-6, 6)"
   ]
  },
  {
   "cell_type": "code",
   "execution_count": 210,
   "metadata": {},
   "outputs": [
    {
     "data": {
      "text/plain": [
       "[<matplotlib.lines.Line2D at 0x10eafd828>]"
      ]
     },
     "execution_count": 210,
     "metadata": {},
     "output_type": "execute_result"
    },
    {
     "data": {
      "image/png": "[encoded data removed]",
      "text/plain": [
       "<Figure size 432x288 with 1 Axes>"
      ]
     },
     "metadata": {
      "needs_background": "light"
     },
     "output_type": "display_data"
    }
   ],
   "source": [
    "plt.plot(approx.hist)"
   ]
  },
  {
   "cell_type": "code",
   "execution_count": 216,
   "metadata": {},
   "outputs": [
    {
     "data": {
      "text/plain": [
       "<pymc3.variational.approximations.MeanField at 0x10b38bda0>"
      ]
     },
     "execution_count": 216,
     "metadata": {},
     "output_type": "execute_result"
    }
   ],
   "source": [
    "approx"
   ]
  },
  {
   "cell_type": "code",
   "execution_count": 219,
   "metadata": {},
   "outputs": [
    {
     "data": {
      "text/plain": [
       "{'pi_stickbreaking__': array([1.9297637], dtype=float32),\n",
       " 'mu_1': array([-0.90052634, -1.6774162 ], dtype=float32),\n",
       " 'mu_0': array([0.8154777, 0.9910714], dtype=float32)}"
      ]
     },
     "execution_count": 219,
     "metadata": {},
     "output_type": "execute_result"
    }
   ],
   "source": [
    "means"
   ]
  },
  {
   "cell_type": "code",
   "execution_count": 223,
   "metadata": {},
   "outputs": [
    {
     "data": {
      "text/plain": [
       "{'pi_stickbreaking__': array([0.3452687], dtype=float32),\n",
       " 'mu_1': array([0.3088255 , 0.33648196], dtype=float32),\n",
       " 'mu_0': array([0.10888502, 0.11449332], dtype=float32)}"
      ]
     },
     "execution_count": 223,
     "metadata": {},
     "output_type": "execute_result"
    }
   ],
   "source": [
    "sds"
   ]
  },
  {
   "cell_type": "code",
   "execution_count": null,
   "metadata": {},
   "outputs": [],
   "source": []
  }
 ],
 "metadata": {
  "kernelspec": {
   "display_name": "Python 3",
   "language": "python",
   "name": "python3"
  },
  "language_info": {
   "codemirror_mode": {
    "name": "ipython",
    "version": 3
   },
   "file_extension": ".py",
   "mimetype": "text/x-python",
   "name": "python",
   "nbconvert_exporter": "python",
   "pygments_lexer": "ipython3",
   "version": "3.6.0"
  }
 },
 "nbformat": 4,
 "nbformat_minor": 2
}
